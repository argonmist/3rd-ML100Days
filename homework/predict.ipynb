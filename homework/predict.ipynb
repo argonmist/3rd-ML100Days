{
 "cells": [
  {
   "cell_type": "code",
   "execution_count": 2,
   "metadata": {},
   "outputs": [
    {
     "name": "stdout",
     "output_type": "stream",
     "text": [
      "1.17.3\n"
     ]
    }
   ],
   "source": [
    "import os\n",
    "import numpy as np\n",
    "import pandas as pd\n",
    "from sklearn.ensemble import GradientBoostingClassifier, RandomForestClassifier\n",
    "import pickle\n",
    "\n",
    "with open('./gdbt.pickle', 'rb') as f:\n",
    "    model_gbdt = pickle.load(f)\n",
    "with open('./lr.pickle', 'rb') as f:\n",
    "    model_lr = pickle.load(f)\n",
    "with open('./rf.pickle', 'rb') as f:\n",
    "    model_rf = pickle.load(f)\n",
    "\n",
    "print(np.version.version)"
   ]
  },
  {
   "cell_type": "code",
   "execution_count": 2,
   "metadata": {},
   "outputs": [],
   "source": [
    "df_test =  pd.read_csv('./data/test_features.csv')"
   ]
  },
  {
   "cell_type": "code",
   "execution_count": 3,
   "metadata": {},
   "outputs": [
    {
     "data": {
      "text/html": [
       "<div>\n",
       "<style scoped>\n",
       "    .dataframe tbody tr th:only-of-type {\n",
       "        vertical-align: middle;\n",
       "    }\n",
       "\n",
       "    .dataframe tbody tr th {\n",
       "        vertical-align: top;\n",
       "    }\n",
       "\n",
       "    .dataframe thead th {\n",
       "        text-align: right;\n",
       "    }\n",
       "</style>\n",
       "<table border=\"1\" class=\"dataframe\">\n",
       "  <thead>\n",
       "    <tr style=\"text-align: right;\">\n",
       "      <th></th>\n",
       "      <th>bonus</th>\n",
       "      <th>deferral_payments</th>\n",
       "      <th>deferred_income</th>\n",
       "      <th>director_fees</th>\n",
       "      <th>exercised_stock_options</th>\n",
       "      <th>expenses</th>\n",
       "      <th>from_messages</th>\n",
       "      <th>from_poi_to_this_person</th>\n",
       "      <th>from_this_person_to_poi</th>\n",
       "      <th>loan_advances</th>\n",
       "      <th>long_term_incentive</th>\n",
       "      <th>other</th>\n",
       "      <th>restricted_stock</th>\n",
       "      <th>restricted_stock_deferred</th>\n",
       "      <th>salary</th>\n",
       "      <th>shared_receipt_with_poi</th>\n",
       "      <th>to_messages</th>\n",
       "      <th>total_payments</th>\n",
       "      <th>total_stock_value</th>\n",
       "    </tr>\n",
       "  </thead>\n",
       "  <tbody>\n",
       "    <tr>\n",
       "      <th>0</th>\n",
       "      <td>15.473738</td>\n",
       "      <td>14.57819</td>\n",
       "      <td>14.663280</td>\n",
       "      <td>0.0</td>\n",
       "      <td>13.767513</td>\n",
       "      <td>9.761636</td>\n",
       "      <td>484.0</td>\n",
       "      <td>228.0</td>\n",
       "      <td>108.0</td>\n",
       "      <td>0.0</td>\n",
       "      <td>0.000000</td>\n",
       "      <td>12.258181</td>\n",
       "      <td>11.967619</td>\n",
       "      <td>0.0</td>\n",
       "      <td>12.273727</td>\n",
       "      <td>5521.0</td>\n",
       "      <td>7991.0</td>\n",
       "      <td>15.520555</td>\n",
       "      <td>13.920506</td>\n",
       "    </tr>\n",
       "    <tr>\n",
       "      <th>1</th>\n",
       "      <td>14.115615</td>\n",
       "      <td>0.00000</td>\n",
       "      <td>6.725034</td>\n",
       "      <td>0.0</td>\n",
       "      <td>0.000000</td>\n",
       "      <td>11.096000</td>\n",
       "      <td>27.0</td>\n",
       "      <td>140.0</td>\n",
       "      <td>15.0</td>\n",
       "      <td>0.0</td>\n",
       "      <td>13.789467</td>\n",
       "      <td>7.390799</td>\n",
       "      <td>12.437403</td>\n",
       "      <td>0.0</td>\n",
       "      <td>12.537536</td>\n",
       "      <td>1593.0</td>\n",
       "      <td>1858.0</td>\n",
       "      <td>14.797435</td>\n",
       "      <td>12.437403</td>\n",
       "    </tr>\n",
       "    <tr>\n",
       "      <th>2</th>\n",
       "      <td>14.220976</td>\n",
       "      <td>0.00000</td>\n",
       "      <td>14.952385</td>\n",
       "      <td>0.0</td>\n",
       "      <td>15.527144</td>\n",
       "      <td>10.435262</td>\n",
       "      <td>32.0</td>\n",
       "      <td>32.0</td>\n",
       "      <td>21.0</td>\n",
       "      <td>0.0</td>\n",
       "      <td>14.296090</td>\n",
       "      <td>9.336973</td>\n",
       "      <td>13.656590</td>\n",
       "      <td>0.0</td>\n",
       "      <td>12.402022</td>\n",
       "      <td>1035.0</td>\n",
       "      <td>1045.0</td>\n",
       "      <td>12.573081</td>\n",
       "      <td>15.670411</td>\n",
       "    </tr>\n",
       "    <tr>\n",
       "      <th>3</th>\n",
       "      <td>14.914123</td>\n",
       "      <td>0.00000</td>\n",
       "      <td>0.000000</td>\n",
       "      <td>0.0</td>\n",
       "      <td>14.644548</td>\n",
       "      <td>11.364124</td>\n",
       "      <td>3069.0</td>\n",
       "      <td>66.0</td>\n",
       "      <td>609.0</td>\n",
       "      <td>0.0</td>\n",
       "      <td>14.074007</td>\n",
       "      <td>7.415175</td>\n",
       "      <td>14.095524</td>\n",
       "      <td>0.0</td>\n",
       "      <td>12.808099</td>\n",
       "      <td>2097.0</td>\n",
       "      <td>3093.0</td>\n",
       "      <td>15.373230</td>\n",
       "      <td>15.100398</td>\n",
       "    </tr>\n",
       "    <tr>\n",
       "      <th>4</th>\n",
       "      <td>13.815511</td>\n",
       "      <td>0.00000</td>\n",
       "      <td>12.367341</td>\n",
       "      <td>0.0</td>\n",
       "      <td>0.000000</td>\n",
       "      <td>10.331171</td>\n",
       "      <td>49.0</td>\n",
       "      <td>58.0</td>\n",
       "      <td>12.0</td>\n",
       "      <td>0.0</td>\n",
       "      <td>12.765688</td>\n",
       "      <td>12.637514</td>\n",
       "      <td>14.732626</td>\n",
       "      <td>0.0</td>\n",
       "      <td>12.936489</td>\n",
       "      <td>1585.0</td>\n",
       "      <td>1892.0</td>\n",
       "      <td>14.440785</td>\n",
       "      <td>14.732626</td>\n",
       "    </tr>\n",
       "  </tbody>\n",
       "</table>\n",
       "</div>"
      ],
      "text/plain": [
       "       bonus  deferral_payments  deferred_income  director_fees  \\\n",
       "0  15.473738           14.57819        14.663280            0.0   \n",
       "1  14.115615            0.00000         6.725034            0.0   \n",
       "2  14.220976            0.00000        14.952385            0.0   \n",
       "3  14.914123            0.00000         0.000000            0.0   \n",
       "4  13.815511            0.00000        12.367341            0.0   \n",
       "\n",
       "   exercised_stock_options   expenses  from_messages  from_poi_to_this_person  \\\n",
       "0                13.767513   9.761636          484.0                    228.0   \n",
       "1                 0.000000  11.096000           27.0                    140.0   \n",
       "2                15.527144  10.435262           32.0                     32.0   \n",
       "3                14.644548  11.364124         3069.0                     66.0   \n",
       "4                 0.000000  10.331171           49.0                     58.0   \n",
       "\n",
       "   from_this_person_to_poi  loan_advances  long_term_incentive      other  \\\n",
       "0                    108.0            0.0             0.000000  12.258181   \n",
       "1                     15.0            0.0            13.789467   7.390799   \n",
       "2                     21.0            0.0            14.296090   9.336973   \n",
       "3                    609.0            0.0            14.074007   7.415175   \n",
       "4                     12.0            0.0            12.765688  12.637514   \n",
       "\n",
       "   restricted_stock  restricted_stock_deferred     salary  \\\n",
       "0         11.967619                        0.0  12.273727   \n",
       "1         12.437403                        0.0  12.537536   \n",
       "2         13.656590                        0.0  12.402022   \n",
       "3         14.095524                        0.0  12.808099   \n",
       "4         14.732626                        0.0  12.936489   \n",
       "\n",
       "   shared_receipt_with_poi  to_messages  total_payments  total_stock_value  \n",
       "0                   5521.0       7991.0       15.520555          13.920506  \n",
       "1                   1593.0       1858.0       14.797435          12.437403  \n",
       "2                   1035.0       1045.0       12.573081          15.670411  \n",
       "3                   2097.0       3093.0       15.373230          15.100398  \n",
       "4                   1585.0       1892.0       14.440785          14.732626  "
      ]
     },
     "execution_count": 3,
     "metadata": {},
     "output_type": "execute_result"
    }
   ],
   "source": [
    "def logdf(cols):\n",
    "    df_test[cols] = df_test[cols].map(lambda i: np.log(i) if i > 0 else 0)\n",
    "\n",
    "def dffillmed(cols):\n",
    "    df_test[cols] = df_test[cols].fillna(df_test[cols].median())\n",
    "\n",
    "ids = df_test['name']\n",
    "df_test = df_test.drop(['email_address', 'name'] , axis=1)\n",
    "df_test['deferred_income'] = df_test['deferred_income'].map(lambda i: np.log(-i) if -i > 0 else 0)\n",
    "\n",
    "logdf('bonus')\n",
    "logdf('deferral_payments')\n",
    "logdf('director_fees')\n",
    "logdf('exercised_stock_options')\n",
    "logdf('expenses')\n",
    "logdf('long_term_incentive')\n",
    "logdf('other')\n",
    "logdf('restricted_stock')\n",
    "logdf('salary')\n",
    "logdf('total_payments')\n",
    "logdf('total_stock_value')\n",
    "\n",
    "logdf('loan_advances')\n",
    "logdf('restricted_stock_deferred')\n",
    "\n",
    "dffillmed('from_poi_to_this_person')\n",
    "dffillmed('from_messages')\n",
    "dffillmed('to_messages')\n",
    "dffillmed('shared_receipt_with_poi')\n",
    "dffillmed('from_this_person_to_poi')\n",
    "\n",
    "df_test.head()"
   ]
  },
  {
   "cell_type": "code",
   "execution_count": 4,
   "metadata": {},
   "outputs": [
    {
     "data": {
      "text/plain": [
       "array([0.33433268, 0.22698633, 0.29432686, 0.22698633, 0.10844339,\n",
       "       0.30682965, 0.77306486, 0.07970951, 0.06278301, 0.10844339,\n",
       "       0.07456377, 0.04611947, 0.04611947, 0.07456377, 0.40980962,\n",
       "       0.04611947, 0.08912824, 0.12727306, 0.15253194, 0.07456377,\n",
       "       0.84222868, 0.31993754, 0.06264158, 0.10164758, 0.08342958,\n",
       "       0.04940703, 0.0635813 , 0.08342958, 0.11333933, 0.26740638,\n",
       "       0.04611947, 0.10735956, 0.43133653])"
      ]
     },
     "execution_count": 4,
     "metadata": {},
     "output_type": "execute_result"
    }
   ],
   "source": [
    "gdbt_predf = model_gbdt.predict_proba(df_test)[:,1]\n",
    "sub = pd.DataFrame({'name': ids, 'poi': gdbt_predf})\n",
    "sub.to_csv('sub_gdbt.csv', index=False)\n",
    "gdbt_predf"
   ]
  },
  {
   "cell_type": "code",
   "execution_count": 5,
   "metadata": {},
   "outputs": [
    {
     "data": {
      "text/plain": [
       "array([0.35784715, 0.35818102, 0.34990397, 0.09901528, 0.37771693,\n",
       "       0.20985959, 0.62185878, 0.13085743, 0.11014447, 0.22035581,\n",
       "       0.11535088, 0.00393317, 0.04382032, 0.12085743, 0.40000039,\n",
       "       0.02357603, 0.12841374, 0.19877603, 0.26897985, 0.12525253,\n",
       "       0.76811111, 0.33047397, 0.08294966, 0.16188178, 0.25768386,\n",
       "       0.09485551, 0.08495389, 0.13800029, 0.19362835, 0.34002592,\n",
       "       0.0147304 , 0.19188885, 0.38724354])"
      ]
     },
     "execution_count": 5,
     "metadata": {},
     "output_type": "execute_result"
    }
   ],
   "source": [
    "rf_predf = model_rf.predict_proba(df_test)[:,1]\n",
    "sub = pd.DataFrame({'name': ids, 'poi': rf_predf})\n",
    "sub.to_csv('sub_rf.csv', index=False)\n",
    "rf_predf"
   ]
  },
  {
   "cell_type": "code",
   "execution_count": 6,
   "metadata": {},
   "outputs": [
    {
     "data": {
      "text/plain": [
       "array([9.99999999e-01, 9.68947182e-01, 9.93296523e-01, 1.00000000e+00,\n",
       "       9.72378567e-01, 5.05968027e-03, 9.99794615e-01, 9.86511638e-01,\n",
       "       5.71784820e-01, 7.54244757e-01, 3.03530317e-41, 6.16963325e-03,\n",
       "       9.26577623e-01, 3.72027363e-01, 1.10998753e-25, 1.62404107e-02,\n",
       "       4.53405239e-02, 9.97434666e-01, 1.40380354e-01, 3.90449763e-08,\n",
       "       2.87210878e-01, 9.99980602e-01, 7.64997369e-03, 5.59335744e-01,\n",
       "       6.51621730e-01, 1.24926467e-03, 1.38590848e-07, 4.17809902e-04,\n",
       "       5.90087818e-01, 9.55743193e-02, 5.07257340e-12, 1.04399472e-01,\n",
       "       9.99970166e-01])"
      ]
     },
     "execution_count": 6,
     "metadata": {},
     "output_type": "execute_result"
    }
   ],
   "source": [
    "lr_predf = model_lr.predict_proba(df_test)[:,1]\n",
    "sub = pd.DataFrame({'name': ids, 'poi': lr_predf})\n",
    "sub.to_csv('sub_lr.csv', index=False)\n",
    "lr_predf"
   ]
  },
  {
   "cell_type": "code",
   "execution_count": null,
   "metadata": {},
   "outputs": [],
   "source": []
  }
 ],
 "metadata": {
  "kernelspec": {
   "display_name": "Python 3",
   "language": "python",
   "name": "python3"
  },
  "language_info": {
   "codemirror_mode": {
    "name": "ipython",
    "version": 3
   },
   "file_extension": ".py",
   "mimetype": "text/x-python",
   "name": "python",
   "nbconvert_exporter": "python",
   "pygments_lexer": "ipython3",
   "version": "3.5.2"
  }
 },
 "nbformat": 4,
 "nbformat_minor": 2
}
