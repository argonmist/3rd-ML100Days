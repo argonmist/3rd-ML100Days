{
 "cells": [
  {
   "cell_type": "markdown",
   "metadata": {},
   "source": [
    "## Work\n",
    "1. 請嘗試將 preproc_x 替換成以每筆資料的 min/max 進行標準化至 -1 ~ 1 間，再進行訓練\n",
    "2. 請嘗試將 mlp 疊更深 (e.g 5~10 層)，進行訓練後觀察 learning curve 的走勢\n",
    "3. (optional) 請改用 GPU 進行訓練 (如果你有 GPU 的話)，比較使用 CPU 與 GPU 的訓練速度"
   ]
  },
  {
   "cell_type": "code",
   "execution_count": 1,
   "metadata": {},
   "outputs": [
    {
     "name": "stdout",
     "output_type": "stream",
     "text": [
      "/bin/sh: 1: nvidia-smi: not found\r\n"
     ]
    }
   ],
   "source": [
    "## \n",
    "\"\"\"\n",
    "Your code here (optional)\n",
    "確認硬體資源\n",
    "\"\"\"\n",
    "!nvidia-smi"
   ]
  },
  {
   "cell_type": "code",
   "execution_count": 2,
   "metadata": {},
   "outputs": [
    {
     "name": "stderr",
     "output_type": "stream",
     "text": [
      "Using TensorFlow backend.\n"
     ]
    }
   ],
   "source": [
    "import os\n",
    "import keras\n",
    "\n",
    "# 請嘗試設定 GPU：os.environ\n",
    "os.environ[\"CUDA_VISIBLE_DEVICES\"] = \"\""
   ]
  },
  {
   "cell_type": "code",
   "execution_count": 3,
   "metadata": {},
   "outputs": [],
   "source": [
    "train, test = keras.datasets.cifar10.load_data()"
   ]
  },
  {
   "cell_type": "code",
   "execution_count": 4,
   "metadata": {},
   "outputs": [],
   "source": [
    "## 資料前處理\n",
    "from sklearn.preprocessing import MinMaxScaler\n",
    "\n",
    "def preproc_x(x, flatten=True):\n",
    "    if flatten:\n",
    "        x = x.reshape((len(x), -1))\n",
    "    scaler = MinMaxScaler(feature_range=(-1, 1))\n",
    "    scaler.fit(x)\n",
    "    x = scaler.transform(x)\n",
    "    return x\n",
    "\n",
    "\n",
    "def preproc_y(y, num_classes=10):\n",
    "    if y.shape[-1] == 1:\n",
    "        y = keras.utils.to_categorical(y, num_classes)\n",
    "    return y  "
   ]
  },
  {
   "cell_type": "code",
   "execution_count": 5,
   "metadata": {},
   "outputs": [
    {
     "name": "stdout",
     "output_type": "stream",
     "text": [
      "(50000, 32, 32, 3)\n"
     ]
    },
    {
     "data": {
      "text/plain": [
       "array([[-0.5372549 , -0.51372549, -0.50588235, ..., -0.03529412,\n",
       "        -0.27843137, -0.43529412],\n",
       "       [ 0.20784314,  0.38823529,  0.46666667, ...,  0.12156863,\n",
       "         0.04313725,  0.12941176],\n",
       "       [ 1.        ,  1.        ,  1.        , ..., -0.37254902,\n",
       "        -0.3254902 , -0.34117647],\n",
       "       ...,\n",
       "       [-0.7254902 ,  0.39607843,  0.84313725, ..., -0.90588235,\n",
       "        -0.75686275, -0.60784314],\n",
       "       [ 0.48235294,  0.65490196,  0.88235294, ...,  0.52941176,\n",
       "         0.49019608,  0.34117647],\n",
       "       [ 0.79607843,  0.79607843,  0.8745098 , ...,  0.27843137,\n",
       "         0.27843137,  0.2627451 ]])"
      ]
     },
     "execution_count": 5,
     "metadata": {},
     "output_type": "execute_result"
    }
   ],
   "source": [
    "x_train, y_train = train\n",
    "x_test, y_test = test\n",
    "\n",
    "print(x_train.shape)\n",
    "# Preproc the inputs\n",
    "x_train = preproc_x(x_train)\n",
    "x_test = preproc_x(x_test)\n",
    "\n",
    "# Preprc the outputs\n",
    "y_train = preproc_y(y_train)\n",
    "y_test = preproc_y(y_test)\n",
    "\n",
    "x_train"
   ]
  },
  {
   "cell_type": "code",
   "execution_count": 6,
   "metadata": {},
   "outputs": [],
   "source": [
    "\"\"\"Code Here\n",
    "建立你的神經網路\n",
    "\"\"\"\n",
    "def build_mlp(input_shape, output_units=10, num_neurons=[512, 256, 256, 256, 128]):\n",
    "    input_layer = keras.layers.Input(input_shape)\n",
    "    \n",
    "    for i, n_units in enumerate(num_neurons):\n",
    "        if i == 0:\n",
    "            x = keras.layers.Dense(units=n_units, activation=\"relu\", name=\"hidden_layer\"+str(i+1))(input_layer)\n",
    "        else:\n",
    "            x = keras.layers.Dense(units=n_units, activation=\"relu\", name=\"hidden_layer\"+str(i+1))(x)\n",
    "    \n",
    "    out = keras.layers.Dense(units=output_units, activation=\"softmax\", name=\"output\")(x)\n",
    "    \n",
    "    model = keras.models.Model(inputs=[input_layer], outputs=[out])\n",
    "    return model"
   ]
  },
  {
   "cell_type": "code",
   "execution_count": 7,
   "metadata": {},
   "outputs": [
    {
     "name": "stdout",
     "output_type": "stream",
     "text": [
      "Model: \"model_1\"\n",
      "_________________________________________________________________\n",
      "Layer (type)                 Output Shape              Param #   \n",
      "=================================================================\n",
      "input_1 (InputLayer)         (None, 3072)              0         \n",
      "_________________________________________________________________\n",
      "hidden_layer1 (Dense)        (None, 512)               1573376   \n",
      "_________________________________________________________________\n",
      "hidden_layer2 (Dense)        (None, 256)               131328    \n",
      "_________________________________________________________________\n",
      "hidden_layer3 (Dense)        (None, 256)               65792     \n",
      "_________________________________________________________________\n",
      "hidden_layer4 (Dense)        (None, 256)               65792     \n",
      "_________________________________________________________________\n",
      "hidden_layer5 (Dense)        (None, 128)               32896     \n",
      "_________________________________________________________________\n",
      "output (Dense)               (None, 10)                1290      \n",
      "=================================================================\n",
      "Total params: 1,870,474\n",
      "Trainable params: 1,870,474\n",
      "Non-trainable params: 0\n",
      "_________________________________________________________________\n"
     ]
    }
   ],
   "source": [
    "model = build_mlp(input_shape=x_train.shape[1:])\n",
    "model.summary()"
   ]
  },
  {
   "cell_type": "code",
   "execution_count": 8,
   "metadata": {},
   "outputs": [],
   "source": [
    "## 超參數設定\n",
    "LEARNING_RATE = 0.001\n",
    "EPOCHS = 100\n",
    "BATCH_SIZE = 256"
   ]
  },
  {
   "cell_type": "code",
   "execution_count": 9,
   "metadata": {},
   "outputs": [],
   "source": [
    "optimizer = keras.optimizers.Adam(lr=LEARNING_RATE)\n",
    "model.compile(loss=\"categorical_crossentropy\", metrics=[\"accuracy\"], optimizer=optimizer)"
   ]
  },
  {
   "cell_type": "code",
   "execution_count": 10,
   "metadata": {},
   "outputs": [
    {
     "name": "stdout",
     "output_type": "stream",
     "text": [
      "Train on 50000 samples, validate on 10000 samples\n",
      "Epoch 1/100\n",
      "50000/50000 [==============================] - 6s 128us/step - loss: 1.6872 - accuracy: 0.3989 - val_loss: 1.5738 - val_accuracy: 0.4412\n",
      "Epoch 2/100\n",
      "50000/50000 [==============================] - 6s 115us/step - loss: 1.4667 - accuracy: 0.4824 - val_loss: 1.4361 - val_accuracy: 0.4962\n",
      "Epoch 3/100\n",
      "50000/50000 [==============================] - 6s 113us/step - loss: 1.3374 - accuracy: 0.5260 - val_loss: 1.4046 - val_accuracy: 0.5125\n",
      "Epoch 4/100\n",
      "50000/50000 [==============================] - 6s 119us/step - loss: 1.2407 - accuracy: 0.5617 - val_loss: 1.3641 - val_accuracy: 0.5229\n",
      "Epoch 5/100\n",
      "50000/50000 [==============================] - 6s 116us/step - loss: 1.1562 - accuracy: 0.5920 - val_loss: 1.3483 - val_accuracy: 0.5304\n",
      "Epoch 6/100\n",
      "50000/50000 [==============================] - 6s 113us/step - loss: 1.0762 - accuracy: 0.6203 - val_loss: 1.3452 - val_accuracy: 0.5358\n",
      "Epoch 7/100\n",
      "50000/50000 [==============================] - 6s 114us/step - loss: 0.9965 - accuracy: 0.6459 - val_loss: 1.3783 - val_accuracy: 0.5360\n",
      "Epoch 8/100\n",
      "50000/50000 [==============================] - 6s 114us/step - loss: 0.9143 - accuracy: 0.6724 - val_loss: 1.4215 - val_accuracy: 0.5366\n",
      "Epoch 9/100\n",
      "50000/50000 [==============================] - 6s 115us/step - loss: 0.8432 - accuracy: 0.7002 - val_loss: 1.4468 - val_accuracy: 0.5336\n",
      "Epoch 10/100\n",
      "50000/50000 [==============================] - 6s 114us/step - loss: 0.7691 - accuracy: 0.7247 - val_loss: 1.5206 - val_accuracy: 0.5369\n",
      "Epoch 11/100\n",
      "50000/50000 [==============================] - 6s 115us/step - loss: 0.7182 - accuracy: 0.7427 - val_loss: 1.5578 - val_accuracy: 0.5308\n",
      "Epoch 12/100\n",
      "50000/50000 [==============================] - 6s 115us/step - loss: 0.6376 - accuracy: 0.7713 - val_loss: 1.6724 - val_accuracy: 0.5404\n",
      "Epoch 13/100\n",
      "50000/50000 [==============================] - 6s 115us/step - loss: 0.5849 - accuracy: 0.7910 - val_loss: 1.7298 - val_accuracy: 0.5329\n",
      "Epoch 14/100\n",
      "50000/50000 [==============================] - 6s 115us/step - loss: 0.5235 - accuracy: 0.8137 - val_loss: 1.7610 - val_accuracy: 0.5428\n",
      "Epoch 15/100\n",
      "50000/50000 [==============================] - 6s 124us/step - loss: 0.4791 - accuracy: 0.8285 - val_loss: 1.9887 - val_accuracy: 0.5352\n",
      "Epoch 16/100\n",
      "50000/50000 [==============================] - 6s 127us/step - loss: 0.4393 - accuracy: 0.8426 - val_loss: 2.0081 - val_accuracy: 0.5323\n",
      "Epoch 17/100\n",
      "50000/50000 [==============================] - 6s 119us/step - loss: 0.4019 - accuracy: 0.8578 - val_loss: 2.1262 - val_accuracy: 0.5241\n",
      "Epoch 18/100\n",
      "50000/50000 [==============================] - 6s 117us/step - loss: 0.3553 - accuracy: 0.8747 - val_loss: 2.2836 - val_accuracy: 0.5243\n",
      "Epoch 19/100\n",
      "50000/50000 [==============================] - 6s 116us/step - loss: 0.3369 - accuracy: 0.8807 - val_loss: 2.3471 - val_accuracy: 0.5320\n",
      "Epoch 20/100\n",
      "50000/50000 [==============================] - 6s 117us/step - loss: 0.3030 - accuracy: 0.8933 - val_loss: 2.4244 - val_accuracy: 0.5347\n",
      "Epoch 21/100\n",
      "50000/50000 [==============================] - 6s 120us/step - loss: 0.2928 - accuracy: 0.8956 - val_loss: 2.4657 - val_accuracy: 0.5318\n",
      "Epoch 22/100\n",
      "50000/50000 [==============================] - 6s 120us/step - loss: 0.2684 - accuracy: 0.9054 - val_loss: 2.6489 - val_accuracy: 0.5291\n",
      "Epoch 23/100\n",
      "50000/50000 [==============================] - 6s 114us/step - loss: 0.2587 - accuracy: 0.9088 - val_loss: 2.7143 - val_accuracy: 0.5228\n",
      "Epoch 24/100\n",
      "50000/50000 [==============================] - 6s 114us/step - loss: 0.2428 - accuracy: 0.9159 - val_loss: 2.7474 - val_accuracy: 0.5316\n",
      "Epoch 25/100\n",
      "50000/50000 [==============================] - 6s 115us/step - loss: 0.2341 - accuracy: 0.9179 - val_loss: 2.8273 - val_accuracy: 0.5338\n",
      "Epoch 26/100\n",
      "50000/50000 [==============================] - 6s 115us/step - loss: 0.1986 - accuracy: 0.9310 - val_loss: 3.0615 - val_accuracy: 0.5330\n",
      "Epoch 27/100\n",
      "50000/50000 [==============================] - 6s 116us/step - loss: 0.2218 - accuracy: 0.9227 - val_loss: 3.0261 - val_accuracy: 0.5305\n",
      "Epoch 28/100\n",
      "50000/50000 [==============================] - 6s 116us/step - loss: 0.1933 - accuracy: 0.9328 - val_loss: 2.9341 - val_accuracy: 0.5212\n",
      "Epoch 29/100\n",
      "50000/50000 [==============================] - 6s 116us/step - loss: 0.1982 - accuracy: 0.9328 - val_loss: 3.1400 - val_accuracy: 0.5317\n",
      "Epoch 30/100\n",
      "50000/50000 [==============================] - 6s 115us/step - loss: 0.1776 - accuracy: 0.9387 - val_loss: 3.1735 - val_accuracy: 0.5221\n",
      "Epoch 31/100\n",
      "50000/50000 [==============================] - 6s 121us/step - loss: 0.1815 - accuracy: 0.9377 - val_loss: 3.2495 - val_accuracy: 0.5261\n",
      "Epoch 32/100\n",
      "50000/50000 [==============================] - 6s 130us/step - loss: 0.1679 - accuracy: 0.9424 - val_loss: 3.3025 - val_accuracy: 0.5220\n",
      "Epoch 33/100\n",
      "50000/50000 [==============================] - 6s 119us/step - loss: 0.1695 - accuracy: 0.9424 - val_loss: 3.3032 - val_accuracy: 0.5314\n",
      "Epoch 34/100\n",
      "50000/50000 [==============================] - 6s 124us/step - loss: 0.1571 - accuracy: 0.9466 - val_loss: 3.3497 - val_accuracy: 0.5306\n",
      "Epoch 35/100\n",
      "50000/50000 [==============================] - 6s 115us/step - loss: 0.1444 - accuracy: 0.9512 - val_loss: 3.3246 - val_accuracy: 0.5292\n",
      "Epoch 36/100\n",
      "50000/50000 [==============================] - 6s 115us/step - loss: 0.1645 - accuracy: 0.9451 - val_loss: 3.4066 - val_accuracy: 0.5348\n",
      "Epoch 37/100\n",
      "50000/50000 [==============================] - 6s 116us/step - loss: 0.1386 - accuracy: 0.9524 - val_loss: 3.6048 - val_accuracy: 0.5325\n",
      "Epoch 38/100\n",
      "50000/50000 [==============================] - 6s 116us/step - loss: 0.1490 - accuracy: 0.9504 - val_loss: 3.5154 - val_accuracy: 0.5239\n",
      "Epoch 39/100\n",
      "50000/50000 [==============================] - 6s 121us/step - loss: 0.1211 - accuracy: 0.9594 - val_loss: 3.7511 - val_accuracy: 0.5255\n",
      "Epoch 40/100\n",
      "50000/50000 [==============================] - 6s 125us/step - loss: 0.1348 - accuracy: 0.9552 - val_loss: 3.7045 - val_accuracy: 0.5298\n",
      "Epoch 41/100\n",
      "50000/50000 [==============================] - 6s 119us/step - loss: 0.1333 - accuracy: 0.9555 - val_loss: 3.5920 - val_accuracy: 0.5318\n",
      "Epoch 42/100\n",
      "50000/50000 [==============================] - 6s 116us/step - loss: 0.1302 - accuracy: 0.9567 - val_loss: 3.4345 - val_accuracy: 0.5222\n",
      "Epoch 43/100\n",
      "50000/50000 [==============================] - 6s 126us/step - loss: 0.1274 - accuracy: 0.9574 - val_loss: 3.8122 - val_accuracy: 0.5344\n",
      "Epoch 44/100\n",
      "50000/50000 [==============================] - 6s 121us/step - loss: 0.1340 - accuracy: 0.9553 - val_loss: 3.6948 - val_accuracy: 0.5270\n",
      "Epoch 45/100\n",
      "50000/50000 [==============================] - 6s 119us/step - loss: 0.1300 - accuracy: 0.9564 - val_loss: 3.7259 - val_accuracy: 0.5244\n",
      "Epoch 46/100\n",
      "50000/50000 [==============================] - 6s 130us/step - loss: 0.1168 - accuracy: 0.9615 - val_loss: 3.7770 - val_accuracy: 0.5302\n",
      "Epoch 47/100\n",
      "50000/50000 [==============================] - 7s 133us/step - loss: 0.1203 - accuracy: 0.9608 - val_loss: 3.8077 - val_accuracy: 0.5248\n",
      "Epoch 48/100\n",
      "50000/50000 [==============================] - 7s 132us/step - loss: 0.1193 - accuracy: 0.9602 - val_loss: 3.8990 - val_accuracy: 0.5318\n",
      "Epoch 49/100\n",
      "50000/50000 [==============================] - 8s 163us/step - loss: 0.1099 - accuracy: 0.9643 - val_loss: 3.7636 - val_accuracy: 0.5217\n",
      "Epoch 50/100\n",
      "50000/50000 [==============================] - 7s 149us/step - loss: 0.1065 - accuracy: 0.9648 - val_loss: 3.7420 - val_accuracy: 0.5250\n",
      "Epoch 51/100\n",
      "50000/50000 [==============================] - 6s 127us/step - loss: 0.1124 - accuracy: 0.9626 - val_loss: 3.9433 - val_accuracy: 0.5272\n",
      "Epoch 52/100\n",
      "50000/50000 [==============================] - 7s 131us/step - loss: 0.1252 - accuracy: 0.9585 - val_loss: 3.8852 - val_accuracy: 0.5388\n",
      "Epoch 53/100\n",
      "50000/50000 [==============================] - 7s 146us/step - loss: 0.1165 - accuracy: 0.9634 - val_loss: 3.7849 - val_accuracy: 0.5311\n",
      "Epoch 54/100\n",
      "50000/50000 [==============================] - 6s 122us/step - loss: 0.1144 - accuracy: 0.9630 - val_loss: 3.7696 - val_accuracy: 0.5289\n",
      "Epoch 55/100\n"
     ]
    },
    {
     "name": "stdout",
     "output_type": "stream",
     "text": [
      "50000/50000 [==============================] - 6s 121us/step - loss: 0.0932 - accuracy: 0.9700 - val_loss: 3.8659 - val_accuracy: 0.5282\n",
      "Epoch 56/100\n",
      "50000/50000 [==============================] - 6s 115us/step - loss: 0.0948 - accuracy: 0.9697 - val_loss: 4.0347 - val_accuracy: 0.5260\n",
      "Epoch 57/100\n",
      "50000/50000 [==============================] - 6s 115us/step - loss: 0.1023 - accuracy: 0.9670 - val_loss: 4.0084 - val_accuracy: 0.5267\n",
      "Epoch 58/100\n",
      "50000/50000 [==============================] - 6s 114us/step - loss: 0.1023 - accuracy: 0.9665 - val_loss: 4.0920 - val_accuracy: 0.5348\n",
      "Epoch 59/100\n",
      "50000/50000 [==============================] - 6s 115us/step - loss: 0.0916 - accuracy: 0.9704 - val_loss: 3.9948 - val_accuracy: 0.5281\n",
      "Epoch 60/100\n",
      "50000/50000 [==============================] - 6s 115us/step - loss: 0.0967 - accuracy: 0.9693 - val_loss: 4.0331 - val_accuracy: 0.5237\n",
      "Epoch 61/100\n",
      "50000/50000 [==============================] - 6s 125us/step - loss: 0.0924 - accuracy: 0.9706 - val_loss: 4.0899 - val_accuracy: 0.5308\n",
      "Epoch 62/100\n",
      "50000/50000 [==============================] - 8s 151us/step - loss: 0.0971 - accuracy: 0.9683 - val_loss: 4.1837 - val_accuracy: 0.5317\n",
      "Epoch 63/100\n",
      "50000/50000 [==============================] - 7s 150us/step - loss: 0.0758 - accuracy: 0.9755 - val_loss: 4.1880 - val_accuracy: 0.5301\n",
      "Epoch 64/100\n",
      "50000/50000 [==============================] - 8s 157us/step - loss: 0.1012 - accuracy: 0.9674 - val_loss: 3.9912 - val_accuracy: 0.5183\n",
      "Epoch 65/100\n",
      "50000/50000 [==============================] - 7s 139us/step - loss: 0.1073 - accuracy: 0.9650 - val_loss: 4.0527 - val_accuracy: 0.5265\n",
      "Epoch 66/100\n",
      "50000/50000 [==============================] - 7s 141us/step - loss: 0.0778 - accuracy: 0.9744 - val_loss: 4.1830 - val_accuracy: 0.5263\n",
      "Epoch 67/100\n",
      "50000/50000 [==============================] - 8s 157us/step - loss: 0.0870 - accuracy: 0.9725 - val_loss: 4.1689 - val_accuracy: 0.5273\n",
      "Epoch 68/100\n",
      "50000/50000 [==============================] - 8s 151us/step - loss: 0.1056 - accuracy: 0.9669 - val_loss: 3.8950 - val_accuracy: 0.5350\n",
      "Epoch 69/100\n",
      "50000/50000 [==============================] - 7s 133us/step - loss: 0.0871 - accuracy: 0.9716 - val_loss: 4.0741 - val_accuracy: 0.5251\n",
      "Epoch 70/100\n",
      "50000/50000 [==============================] - 6s 120us/step - loss: 0.0869 - accuracy: 0.9713 - val_loss: 4.1728 - val_accuracy: 0.5246\n",
      "Epoch 71/100\n",
      "50000/50000 [==============================] - 6s 118us/step - loss: 0.0912 - accuracy: 0.9711 - val_loss: 4.1859 - val_accuracy: 0.5245\n",
      "Epoch 72/100\n",
      "50000/50000 [==============================] - 6s 119us/step - loss: 0.0873 - accuracy: 0.9717 - val_loss: 4.2644 - val_accuracy: 0.5297\n",
      "Epoch 73/100\n",
      "50000/50000 [==============================] - 6s 127us/step - loss: 0.0823 - accuracy: 0.9740 - val_loss: 4.1930 - val_accuracy: 0.5270\n",
      "Epoch 74/100\n",
      "50000/50000 [==============================] - 6s 124us/step - loss: 0.0689 - accuracy: 0.9778 - val_loss: 4.4941 - val_accuracy: 0.5269\n",
      "Epoch 75/100\n",
      "50000/50000 [==============================] - 6s 121us/step - loss: 0.0825 - accuracy: 0.9742 - val_loss: 4.2271 - val_accuracy: 0.5186\n",
      "Epoch 76/100\n",
      "50000/50000 [==============================] - 6s 119us/step - loss: 0.0925 - accuracy: 0.9704 - val_loss: 4.2121 - val_accuracy: 0.5296\n",
      "Epoch 77/100\n",
      "50000/50000 [==============================] - 6s 126us/step - loss: 0.0769 - accuracy: 0.9758 - val_loss: 4.1591 - val_accuracy: 0.5346\n",
      "Epoch 78/100\n",
      "50000/50000 [==============================] - 6s 123us/step - loss: 0.0724 - accuracy: 0.9767 - val_loss: 4.3804 - val_accuracy: 0.5230\n",
      "Epoch 79/100\n",
      "50000/50000 [==============================] - 6s 123us/step - loss: 0.0861 - accuracy: 0.9727 - val_loss: 4.2288 - val_accuracy: 0.5252\n",
      "Epoch 80/100\n",
      "50000/50000 [==============================] - 7s 137us/step - loss: 0.0764 - accuracy: 0.9760 - val_loss: 4.3324 - val_accuracy: 0.5303\n",
      "Epoch 81/100\n",
      "50000/50000 [==============================] - 7s 139us/step - loss: 0.0677 - accuracy: 0.9784 - val_loss: 4.3529 - val_accuracy: 0.5239\n",
      "Epoch 82/100\n",
      "50000/50000 [==============================] - 6s 125us/step - loss: 0.0867 - accuracy: 0.9724 - val_loss: 4.2973 - val_accuracy: 0.5254\n",
      "Epoch 83/100\n",
      "50000/50000 [==============================] - 6s 124us/step - loss: 0.0797 - accuracy: 0.9748 - val_loss: 4.3013 - val_accuracy: 0.5303\n",
      "Epoch 84/100\n",
      "50000/50000 [==============================] - 6s 118us/step - loss: 0.0773 - accuracy: 0.9763 - val_loss: 4.2169 - val_accuracy: 0.5269\n",
      "Epoch 85/100\n",
      "50000/50000 [==============================] - 6s 118us/step - loss: 0.0636 - accuracy: 0.9797 - val_loss: 4.5015 - val_accuracy: 0.5233\n",
      "Epoch 86/100\n",
      "50000/50000 [==============================] - 6s 117us/step - loss: 0.0678 - accuracy: 0.9778 - val_loss: 4.3785 - val_accuracy: 0.5289\n",
      "Epoch 87/100\n",
      "50000/50000 [==============================] - 6s 120us/step - loss: 0.0728 - accuracy: 0.9768 - val_loss: 4.4937 - val_accuracy: 0.5315\n",
      "Epoch 88/100\n",
      "50000/50000 [==============================] - 6s 127us/step - loss: 0.0788 - accuracy: 0.9754 - val_loss: 4.3581 - val_accuracy: 0.5165\n",
      "Epoch 89/100\n",
      "50000/50000 [==============================] - 6s 119us/step - loss: 0.0733 - accuracy: 0.9768 - val_loss: 4.4896 - val_accuracy: 0.5284\n",
      "Epoch 90/100\n",
      "50000/50000 [==============================] - 6s 121us/step - loss: 0.0756 - accuracy: 0.9760 - val_loss: 4.4240 - val_accuracy: 0.5336\n",
      "Epoch 91/100\n",
      "50000/50000 [==============================] - 6s 118us/step - loss: 0.0698 - accuracy: 0.9777 - val_loss: 4.4288 - val_accuracy: 0.5324\n",
      "Epoch 92/100\n",
      "50000/50000 [==============================] - 6s 121us/step - loss: 0.0574 - accuracy: 0.9818 - val_loss: 4.3372 - val_accuracy: 0.5342\n",
      "Epoch 93/100\n",
      "50000/50000 [==============================] - 6s 126us/step - loss: 0.0846 - accuracy: 0.9726 - val_loss: 4.1813 - val_accuracy: 0.5286\n",
      "Epoch 94/100\n",
      "50000/50000 [==============================] - 6s 118us/step - loss: 0.0603 - accuracy: 0.9814 - val_loss: 4.3732 - val_accuracy: 0.5306\n",
      "Epoch 95/100\n",
      "50000/50000 [==============================] - 6s 116us/step - loss: 0.0618 - accuracy: 0.9810 - val_loss: 4.4918 - val_accuracy: 0.5323\n",
      "Epoch 96/100\n",
      "50000/50000 [==============================] - 6s 115us/step - loss: 0.0676 - accuracy: 0.9791 - val_loss: 4.4426 - val_accuracy: 0.5323\n",
      "Epoch 97/100\n",
      "50000/50000 [==============================] - 6s 116us/step - loss: 0.0805 - accuracy: 0.9753 - val_loss: 4.4416 - val_accuracy: 0.5284\n",
      "Epoch 98/100\n",
      "50000/50000 [==============================] - 6s 116us/step - loss: 0.0630 - accuracy: 0.9804 - val_loss: 4.5487 - val_accuracy: 0.5223\n",
      "Epoch 99/100\n",
      "50000/50000 [==============================] - 6s 120us/step - loss: 0.0644 - accuracy: 0.9799 - val_loss: 4.4328 - val_accuracy: 0.5255\n",
      "Epoch 100/100\n",
      "50000/50000 [==============================] - 6s 118us/step - loss: 0.0716 - accuracy: 0.9771 - val_loss: 4.3453 - val_accuracy: 0.5297\n"
     ]
    },
    {
     "data": {
      "text/plain": [
       "<keras.callbacks.callbacks.History at 0x7fa729f59860>"
      ]
     },
     "execution_count": 10,
     "metadata": {},
     "output_type": "execute_result"
    }
   ],
   "source": [
    "model.fit(x_train, y_train, \n",
    "          epochs=EPOCHS, \n",
    "          batch_size=BATCH_SIZE, \n",
    "          validation_data=(x_test, y_test), \n",
    "          shuffle=True)"
   ]
  },
  {
   "cell_type": "code",
   "execution_count": 12,
   "metadata": {},
   "outputs": [
    {
     "data": {
      "image/png": "[encoded data removed]",
      "text/plain": [
       "<Figure size 432x288 with 1 Axes>"
      ]
     },
     "metadata": {
      "needs_background": "light"
     },
     "output_type": "display_data"
    },
    {
     "data": {
      "image/png": "[encoded data removed]",
      "text/plain": [
       "<Figure size 432x288 with 1 Axes>"
      ]
     },
     "metadata": {
      "needs_background": "light"
     },
     "output_type": "display_data"
    }
   ],
   "source": [
    "import matplotlib.pyplot as plt\n",
    "\n",
    "\n",
    "train_loss = model.history.history[\"loss\"]\n",
    "valid_loss = model.history.history[\"val_loss\"]\n",
    "\n",
    "train_acc = model.history.history[\"accuracy\"]\n",
    "valid_acc = model.history.history[\"val_accuracy\"]\n",
    "\n",
    "plt.plot(range(len(train_loss)), train_loss, label=\"train loss\")\n",
    "plt.plot(range(len(valid_loss)), valid_loss, label=\"valid loss\")\n",
    "plt.legend()\n",
    "plt.title(\"Loss\")\n",
    "plt.show()\n",
    "\n",
    "plt.plot(range(len(train_acc)), train_acc, label=\"train accuracy\")\n",
    "plt.plot(range(len(valid_acc)), valid_acc, label=\"valid accuracy\")\n",
    "plt.legend()\n",
    "plt.title(\"Accuracy\")\n",
    "plt.show()"
   ]
  },
  {
   "cell_type": "code",
   "execution_count": null,
   "metadata": {},
   "outputs": [],
   "source": []
  }
 ],
 "metadata": {
  "kernelspec": {
   "display_name": "Python 3",
   "language": "python",
   "name": "python3"
  },
  "language_info": {
   "codemirror_mode": {
    "name": "ipython",
    "version": 3
   },
   "file_extension": ".py",
   "mimetype": "text/x-python",
   "name": "python",
   "nbconvert_exporter": "python",
   "pygments_lexer": "ipython3",
   "version": "3.5.2"
  }
 },
 "nbformat": 4,
 "nbformat_minor": 2
}
