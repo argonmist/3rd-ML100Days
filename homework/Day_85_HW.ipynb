{
 "cells": [
  {
   "cell_type": "markdown",
   "metadata": {},
   "source": [
    "## Work\n",
    "1. 試改變 monitor \"Validation Accuracy\" 並比較結果\n",
    "2. 調整 earlystop 的等待次數至 10, 25 並比較結果"
   ]
  },
  {
   "cell_type": "code",
   "execution_count": 1,
   "metadata": {},
   "outputs": [
    {
     "name": "stderr",
     "output_type": "stream",
     "text": [
      "Using TensorFlow backend.\n"
     ]
    }
   ],
   "source": [
    "import os\n",
    "import keras\n",
    "import matplotlib.pyplot as plt\n",
    "%matplotlib inline\n",
    "\n",
    "\n",
    "# Disable GPU\n",
    "os.environ[\"CUDA_VISIBLE_DEVICES\"] = \"\""
   ]
  },
  {
   "cell_type": "code",
   "execution_count": 2,
   "metadata": {},
   "outputs": [],
   "source": [
    "train, test = keras.datasets.cifar10.load_data()"
   ]
  },
  {
   "cell_type": "code",
   "execution_count": 3,
   "metadata": {},
   "outputs": [],
   "source": [
    "## 資料前處理\n",
    "def preproc_x(x, flatten=True):\n",
    "    x = x / 255.\n",
    "    if flatten:\n",
    "        x = x.reshape((len(x), -1))\n",
    "    return x\n",
    "\n",
    "def preproc_y(y, num_classes=10):\n",
    "    if y.shape[-1] == 1:\n",
    "        y = keras.utils.to_categorical(y, num_classes)\n",
    "    return y    "
   ]
  },
  {
   "cell_type": "code",
   "execution_count": 4,
   "metadata": {},
   "outputs": [],
   "source": [
    "x_train, y_train = train\n",
    "x_test, y_test = test\n",
    "\n",
    "# Preproc the inputs\n",
    "x_train = preproc_x(x_train)\n",
    "x_test = preproc_x(x_test)\n",
    "\n",
    "# Preprc the outputs\n",
    "y_train = preproc_y(y_train)\n",
    "y_test = preproc_y(y_test)"
   ]
  },
  {
   "cell_type": "code",
   "execution_count": 5,
   "metadata": {},
   "outputs": [],
   "source": [
    "from keras.layers import BatchNormalization\n",
    "\n",
    "\"\"\"\n",
    "建立神經網路，並加入 BN layer\n",
    "\"\"\"\n",
    "def build_mlp(input_shape, output_units=10, num_neurons=[512, 256, 128]):\n",
    "    input_layer = keras.layers.Input(input_shape)\n",
    "    \n",
    "    for i, n_units in enumerate(num_neurons):\n",
    "        if i == 0:\n",
    "            x = keras.layers.Dense(units=n_units, \n",
    "                                   activation=\"relu\", \n",
    "                                   name=\"hidden_layer\"+str(i+1))(input_layer)\n",
    "            x = BatchNormalization()(x)\n",
    "        else:\n",
    "            x = keras.layers.Dense(units=n_units, \n",
    "                                   activation=\"relu\", \n",
    "                                   name=\"hidden_layer\"+str(i+1))(x)\n",
    "            x = BatchNormalization()(x)\n",
    "    \n",
    "    out = keras.layers.Dense(units=output_units, activation=\"softmax\", name=\"output\")(x)\n",
    "    \n",
    "    model = keras.models.Model(inputs=[input_layer], outputs=[out])\n",
    "    return model"
   ]
  },
  {
   "cell_type": "code",
   "execution_count": 6,
   "metadata": {},
   "outputs": [],
   "source": [
    "## 超參數設定\n",
    "LEARNING_RATE = 1e-3\n",
    "EPOCHS = 50\n",
    "BATCH_SIZE = 1024\n",
    "MOMENTUM = 0.95"
   ]
  },
  {
   "cell_type": "code",
   "execution_count": 7,
   "metadata": {},
   "outputs": [
    {
     "name": "stdout",
     "output_type": "stream",
     "text": [
      "Model: \"model_1\"\n",
      "_________________________________________________________________\n",
      "Layer (type)                 Output Shape              Param #   \n",
      "=================================================================\n",
      "input_1 (InputLayer)         (None, 3072)              0         \n",
      "_________________________________________________________________\n",
      "hidden_layer1 (Dense)        (None, 512)               1573376   \n",
      "_________________________________________________________________\n",
      "batch_normalization_1 (Batch (None, 512)               2048      \n",
      "_________________________________________________________________\n",
      "hidden_layer2 (Dense)        (None, 256)               131328    \n",
      "_________________________________________________________________\n",
      "batch_normalization_2 (Batch (None, 256)               1024      \n",
      "_________________________________________________________________\n",
      "hidden_layer3 (Dense)        (None, 128)               32896     \n",
      "_________________________________________________________________\n",
      "batch_normalization_3 (Batch (None, 128)               512       \n",
      "_________________________________________________________________\n",
      "output (Dense)               (None, 10)                1290      \n",
      "=================================================================\n",
      "Total params: 1,742,474\n",
      "Trainable params: 1,740,682\n",
      "Non-trainable params: 1,792\n",
      "_________________________________________________________________\n",
      "Train on 50000 samples, validate on 10000 samples\n",
      "Epoch 1/50\n",
      "50000/50000 [==============================] - 4s 73us/step - loss: 2.2201 - accuracy: 0.2692 - val_loss: 2.1113 - val_accuracy: 0.2215\n",
      "Epoch 2/50\n",
      "50000/50000 [==============================] - 4s 70us/step - loss: 1.7320 - accuracy: 0.3948 - val_loss: 1.9762 - val_accuracy: 0.3022\n",
      "Epoch 3/50\n",
      "50000/50000 [==============================] - 3s 65us/step - loss: 1.6073 - accuracy: 0.4377 - val_loss: 1.8442 - val_accuracy: 0.3607\n",
      "Epoch 4/50\n",
      "50000/50000 [==============================] - 3s 69us/step - loss: 1.5340 - accuracy: 0.4634 - val_loss: 1.7350 - val_accuracy: 0.3992\n",
      "Epoch 5/50\n",
      "50000/50000 [==============================] - 3s 67us/step - loss: 1.4793 - accuracy: 0.4850 - val_loss: 1.6524 - val_accuracy: 0.4214\n",
      "Epoch 6/50\n",
      "50000/50000 [==============================] - 4s 72us/step - loss: 1.4366 - accuracy: 0.5015 - val_loss: 1.5854 - val_accuracy: 0.4494\n",
      "Epoch 7/50\n",
      "50000/50000 [==============================] - 4s 74us/step - loss: 1.3974 - accuracy: 0.5149 - val_loss: 1.5546 - val_accuracy: 0.4528\n",
      "Epoch 8/50\n",
      "50000/50000 [==============================] - 4s 83us/step - loss: 1.3639 - accuracy: 0.5264 - val_loss: 1.5297 - val_accuracy: 0.4656\n",
      "Epoch 9/50\n",
      "50000/50000 [==============================] - 4s 71us/step - loss: 1.3299 - accuracy: 0.5388 - val_loss: 1.5083 - val_accuracy: 0.4646\n",
      "Epoch 10/50\n",
      "50000/50000 [==============================] - 4s 78us/step - loss: 1.3009 - accuracy: 0.5495 - val_loss: 1.4949 - val_accuracy: 0.4735\n",
      "Epoch 11/50\n",
      "50000/50000 [==============================] - 4s 73us/step - loss: 1.2735 - accuracy: 0.5580 - val_loss: 1.4870 - val_accuracy: 0.4765\n",
      "Epoch 12/50\n",
      "50000/50000 [==============================] - 4s 75us/step - loss: 1.2455 - accuracy: 0.5710 - val_loss: 1.4830 - val_accuracy: 0.4754\n",
      "Epoch 13/50\n",
      "50000/50000 [==============================] - 4s 72us/step - loss: 1.2192 - accuracy: 0.5801 - val_loss: 1.4707 - val_accuracy: 0.4853\n",
      "Epoch 14/50\n",
      "50000/50000 [==============================] - 3s 66us/step - loss: 1.1953 - accuracy: 0.5890 - val_loss: 1.4838 - val_accuracy: 0.4765\n",
      "Epoch 15/50\n",
      "50000/50000 [==============================] - 3s 67us/step - loss: 1.1751 - accuracy: 0.5964 - val_loss: 1.4591 - val_accuracy: 0.4869\n",
      "Epoch 16/50\n",
      "50000/50000 [==============================] - 3s 67us/step - loss: 1.1504 - accuracy: 0.6048 - val_loss: 1.4696 - val_accuracy: 0.4829\n",
      "Epoch 17/50\n",
      "50000/50000 [==============================] - 4s 71us/step - loss: 1.1260 - accuracy: 0.6149 - val_loss: 1.4727 - val_accuracy: 0.4880\n",
      "Epoch 18/50\n",
      "50000/50000 [==============================] - 3s 67us/step - loss: 1.1026 - accuracy: 0.6235 - val_loss: 1.4523 - val_accuracy: 0.4908\n",
      "Epoch 19/50\n",
      "50000/50000 [==============================] - 3s 65us/step - loss: 1.0821 - accuracy: 0.6304 - val_loss: 1.4688 - val_accuracy: 0.4879\n",
      "Epoch 20/50\n",
      "50000/50000 [==============================] - 3s 64us/step - loss: 1.0625 - accuracy: 0.6398 - val_loss: 1.4663 - val_accuracy: 0.4929\n",
      "Epoch 21/50\n",
      "50000/50000 [==============================] - 3s 63us/step - loss: 1.0428 - accuracy: 0.6453 - val_loss: 1.4512 - val_accuracy: 0.4924\n",
      "Epoch 22/50\n",
      "50000/50000 [==============================] - 3s 63us/step - loss: 1.0196 - accuracy: 0.6547 - val_loss: 1.4611 - val_accuracy: 0.4935\n",
      "Epoch 23/50\n",
      "50000/50000 [==============================] - 3s 63us/step - loss: 0.9985 - accuracy: 0.6625 - val_loss: 1.4615 - val_accuracy: 0.4974\n",
      "Epoch 24/50\n",
      "50000/50000 [==============================] - 3s 63us/step - loss: 0.9800 - accuracy: 0.6694 - val_loss: 1.4679 - val_accuracy: 0.4988\n",
      "Epoch 25/50\n",
      "50000/50000 [==============================] - 3s 63us/step - loss: 0.9594 - accuracy: 0.6759 - val_loss: 1.4605 - val_accuracy: 0.4976\n",
      "Epoch 26/50\n",
      "50000/50000 [==============================] - 3s 63us/step - loss: 0.9377 - accuracy: 0.6870 - val_loss: 1.4682 - val_accuracy: 0.4945\n",
      "Epoch 00026: early stopping\n"
     ]
    }
   ],
   "source": [
    "# 載入 Callbacks\n",
    "\"\"\"Code Here\n",
    "設定 callbacks: Earlystop\n",
    "\"\"\"\n",
    "from keras.callbacks import EarlyStopping\n",
    "\n",
    "earlystop = EarlyStopping(monitor=\"val_loss\", \n",
    "                          patience=5, \n",
    "                          verbose=1\n",
    "                          )\n",
    "\n",
    "\n",
    "\n",
    "results = {}\n",
    "\"\"\"Code Here\n",
    "撰寫你的訓練流程並將結果用 dictionary 紀錄\n",
    "\"\"\"\n",
    "model = build_mlp(input_shape=x_train.shape[1:])\n",
    "model.summary()\n",
    "optimizer = keras.optimizers.SGD(lr=LEARNING_RATE, nesterov=True, momentum=MOMENTUM)\n",
    "model.compile(loss=\"categorical_crossentropy\", metrics=[\"accuracy\"], optimizer=optimizer)\n",
    "\n",
    "model.fit(x_train, y_train, \n",
    "          epochs=EPOCHS, \n",
    "          batch_size=BATCH_SIZE, \n",
    "          validation_data=(x_test, y_test), \n",
    "          shuffle=True,\n",
    "          callbacks=[earlystop]\n",
    "         )\n",
    "\n",
    "# Collect results\n",
    "train_loss = model.history.history[\"loss\"]\n",
    "valid_loss = model.history.history[\"val_loss\"]\n",
    "train_acc = model.history.history[\"accuracy\"]\n",
    "valid_acc = model.history.history[\"val_accuracy\"]\n",
    "\n",
    "results = {'train-loss': train_loss,\n",
    "           'valid-loss': valid_loss,\n",
    "           'train-acc': train_acc,\n",
    "           'valid-acc': valid_acc}"
   ]
  },
  {
   "cell_type": "code",
   "execution_count": 8,
   "metadata": {},
   "outputs": [
    {
     "data": {
      "image/png": "[encoded data removed]",
      "text/plain": [
       "<Figure size 432x288 with 1 Axes>"
      ]
     },
     "metadata": {
      "needs_background": "light"
     },
     "output_type": "display_data"
    },
    {
     "data": {
      "image/png": "[encoded data removed]",
      "text/plain": [
       "<Figure size 432x288 with 1 Axes>"
      ]
     },
     "metadata": {
      "needs_background": "light"
     },
     "output_type": "display_data"
    }
   ],
   "source": [
    "import matplotlib.pyplot as plt\n",
    "%matplotlib inline\n",
    "\"\"\"Code Here\n",
    "將結果繪出\n",
    "\"\"\"\n",
    "\n",
    "plt.plot(range(len(train_loss)), train_loss, label=\"train loss\")\n",
    "plt.plot(range(len(valid_loss)), valid_loss, label=\"valid loss\")\n",
    "plt.legend()\n",
    "plt.title(\"Loss\")\n",
    "plt.show()\n",
    "\n",
    "plt.plot(range(len(train_acc)), train_acc, label=\"train accuracy\")\n",
    "plt.plot(range(len(valid_acc)), valid_acc, label=\"valid accuracy\")\n",
    "plt.legend()\n",
    "plt.title(\"Accuracy\")\n",
    "plt.show()"
   ]
  }
 ],
 "metadata": {
  "kernelspec": {
   "display_name": "Python 3",
   "language": "python",
   "name": "python3"
  },
  "language_info": {
   "codemirror_mode": {
    "name": "ipython",
    "version": 3
   },
   "file_extension": ".py",
   "mimetype": "text/x-python",
   "name": "python",
   "nbconvert_exporter": "python",
   "pygments_lexer": "ipython3",
   "version": "3.5.2"
  }
 },
 "nbformat": 4,
 "nbformat_minor": 2
}
