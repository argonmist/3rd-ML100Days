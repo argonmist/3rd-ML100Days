{
 "cells": [
  {
   "cell_type": "markdown",
   "metadata": {},
   "source": [
    "## [作業目標]\n",
    "了解機器學習適合應用的領域與範疇。"
   ]
  },
  {
   "cell_type": "markdown",
   "metadata": {},
   "source": [
    "## [作業重點]\n",
    "透過瞭解機器學習的運作方式，找出非常適用機器學習應用的領域及其原因"
   ]
  },
  {
   "cell_type": "markdown",
   "metadata": {},
   "source": [
    "## 作業\n",
    "請找出一個你認為機器學習可以發光發熱的領域並闡述原因?   \n",
    "  \n",
    "   \n",
    "製造業  \n",
    "根據不同的製造產業會有不同的機台，然而產品抽檢畢竟是隨機的，無法確保所有製造出來的產品良率  \n",
    "此外，這類產品檢驗設備成本高昂，檢驗過程可能需要經過多道程序，有一定的時間成本  \n",
    "  \n",
    "  \n",
    "透過機器學習，可蒐集製造過程所產生的資料，以其為據訓練模型來達到預測產品良率的目標  \n",
    "除可適用於大多數自動化生產產業，也可減少檢驗成本，另外將抽檢變為全檢，提高產品信心  "
   ]
  }
 ],
 "metadata": {
  "kernelspec": {
   "display_name": "Python 3",
   "language": "python",
   "name": "python3"
  },
  "language_info": {
   "codemirror_mode": {
    "name": "ipython",
    "version": 3
   },
   "file_extension": ".py",
   "mimetype": "text/x-python",
   "name": "python",
   "nbconvert_exporter": "python",
   "pygments_lexer": "ipython3",
   "version": "3.5.2"
  }
 },
 "nbformat": 4,
 "nbformat_minor": 2
}
