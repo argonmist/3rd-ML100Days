{
 "cells": [
  {
   "cell_type": "markdown",
   "metadata": {},
   "source": [
    "## Work\n",
    "1. 試比較 save_best_only 與否的差異\n",
    "2. 請僅存入將 save_weights_only 設定為 True, 並嘗試 reset ipynb 並將模型與權重重新建回並預測 x_test"
   ]
  },
  {
   "cell_type": "code",
   "execution_count": 1,
   "metadata": {},
   "outputs": [
    {
     "name": "stderr",
     "output_type": "stream",
     "text": [
      "Using TensorFlow backend.\n"
     ]
    }
   ],
   "source": [
    "import os\n",
    "import keras\n",
    "\n",
    "# Disable GPU\n",
    "os.environ[\"CUDA_VISIBLE_DEVICES\"] = \"\""
   ]
  },
  {
   "cell_type": "code",
   "execution_count": 2,
   "metadata": {},
   "outputs": [],
   "source": [
    "train, test = keras.datasets.cifar10.load_data()"
   ]
  },
  {
   "cell_type": "code",
   "execution_count": 3,
   "metadata": {},
   "outputs": [],
   "source": [
    "## 資料前處理\n",
    "def preproc_x(x, flatten=True):\n",
    "    x = x / 255.\n",
    "    if flatten:\n",
    "        x = x.reshape((len(x), -1))\n",
    "    return x\n",
    "\n",
    "def preproc_y(y, num_classes=10):\n",
    "    if y.shape[-1] == 1:\n",
    "        y = keras.utils.to_categorical(y, num_classes)\n",
    "    return y    "
   ]
  },
  {
   "cell_type": "code",
   "execution_count": 4,
   "metadata": {},
   "outputs": [],
   "source": [
    "x_train, y_train = train\n",
    "x_test, y_test = test\n",
    "\n",
    "# Preproc the inputs\n",
    "x_train = preproc_x(x_train)\n",
    "x_test = preproc_x(x_test)\n",
    "\n",
    "# Preprc the outputs\n",
    "y_train = preproc_y(y_train)\n",
    "y_test = preproc_y(y_test)"
   ]
  },
  {
   "cell_type": "code",
   "execution_count": 5,
   "metadata": {},
   "outputs": [],
   "source": [
    "from keras.layers import BatchNormalization\n",
    "\n",
    "\"\"\"\n",
    "建立神經網路，並加入 BN layer\n",
    "\"\"\"\n",
    "def build_mlp(input_shape, output_units=10, num_neurons=[512, 256, 128]):\n",
    "    input_layer = keras.layers.Input(input_shape)\n",
    "    \n",
    "    for i, n_units in enumerate(num_neurons):\n",
    "        if i == 0:\n",
    "            x = keras.layers.Dense(units=n_units, \n",
    "                                   activation=\"relu\", \n",
    "                                   name=\"hidden_layer\"+str(i+1))(input_layer)\n",
    "            x = BatchNormalization()(x)\n",
    "        else:\n",
    "            x = keras.layers.Dense(units=n_units, \n",
    "                                   activation=\"relu\", \n",
    "                                   name=\"hidden_layer\"+str(i+1))(x)\n",
    "            x = BatchNormalization()(x)\n",
    "    \n",
    "    out = keras.layers.Dense(units=output_units, activation=\"softmax\", name=\"output\")(x)\n",
    "    \n",
    "    model = keras.models.Model(inputs=[input_layer], outputs=[out])\n",
    "    return model"
   ]
  },
  {
   "cell_type": "code",
   "execution_count": 6,
   "metadata": {},
   "outputs": [],
   "source": [
    "\"\"\"Code Here\n",
    "設定超參數\n",
    "\"\"\"\n",
    "LEARNING_RATE = 1e-3\n",
    "EPOCHS = 50\n",
    "BATCH_SIZE = 1024\n",
    "MOMENTUM = 0.95"
   ]
  },
  {
   "cell_type": "code",
   "execution_count": 7,
   "metadata": {},
   "outputs": [
    {
     "name": "stdout",
     "output_type": "stream",
     "text": [
      "Model: \"model_1\"\n",
      "_________________________________________________________________\n",
      "Layer (type)                 Output Shape              Param #   \n",
      "=================================================================\n",
      "input_1 (InputLayer)         (None, 3072)              0         \n",
      "_________________________________________________________________\n",
      "hidden_layer1 (Dense)        (None, 512)               1573376   \n",
      "_________________________________________________________________\n",
      "batch_normalization_1 (Batch (None, 512)               2048      \n",
      "_________________________________________________________________\n",
      "hidden_layer2 (Dense)        (None, 256)               131328    \n",
      "_________________________________________________________________\n",
      "batch_normalization_2 (Batch (None, 256)               1024      \n",
      "_________________________________________________________________\n",
      "hidden_layer3 (Dense)        (None, 128)               32896     \n",
      "_________________________________________________________________\n",
      "batch_normalization_3 (Batch (None, 128)               512       \n",
      "_________________________________________________________________\n",
      "output (Dense)               (None, 10)                1290      \n",
      "=================================================================\n",
      "Total params: 1,742,474\n",
      "Trainable params: 1,740,682\n",
      "Non-trainable params: 1,792\n",
      "_________________________________________________________________\n",
      "Train on 50000 samples, validate on 10000 samples\n",
      "Epoch 1/50\n",
      "50000/50000 [==============================] - 4s 77us/step - loss: 2.1951 - accuracy: 0.2741 - val_loss: 2.1444 - val_accuracy: 0.2227\n",
      "Epoch 2/50\n",
      "50000/50000 [==============================] - 3s 63us/step - loss: 1.7430 - accuracy: 0.3927 - val_loss: 1.9622 - val_accuracy: 0.3028\n",
      "Epoch 3/50\n",
      "50000/50000 [==============================] - 3s 63us/step - loss: 1.6138 - accuracy: 0.4364 - val_loss: 1.8261 - val_accuracy: 0.3573\n",
      "Epoch 4/50\n",
      "50000/50000 [==============================] - 3s 62us/step - loss: 1.5390 - accuracy: 0.4640 - val_loss: 1.7162 - val_accuracy: 0.4061\n",
      "Epoch 5/50\n",
      "50000/50000 [==============================] - 3s 62us/step - loss: 1.4829 - accuracy: 0.4815 - val_loss: 1.6302 - val_accuracy: 0.4316\n",
      "Epoch 6/50\n",
      "50000/50000 [==============================] - 3s 62us/step - loss: 1.4372 - accuracy: 0.5000 - val_loss: 1.5834 - val_accuracy: 0.4369\n",
      "Epoch 7/50\n",
      "50000/50000 [==============================] - 3s 62us/step - loss: 1.3981 - accuracy: 0.5139 - val_loss: 1.5440 - val_accuracy: 0.4539\n",
      "Epoch 8/50\n",
      "50000/50000 [==============================] - 3s 62us/step - loss: 1.3618 - accuracy: 0.5275 - val_loss: 1.5144 - val_accuracy: 0.4670\n",
      "Epoch 9/50\n",
      "50000/50000 [==============================] - 3s 62us/step - loss: 1.3278 - accuracy: 0.5399 - val_loss: 1.4972 - val_accuracy: 0.4705\n",
      "Epoch 10/50\n",
      "50000/50000 [==============================] - 3s 62us/step - loss: 1.2995 - accuracy: 0.5499 - val_loss: 1.4937 - val_accuracy: 0.4746\n",
      "Epoch 11/50\n",
      "50000/50000 [==============================] - 3s 62us/step - loss: 1.2706 - accuracy: 0.5616 - val_loss: 1.4822 - val_accuracy: 0.4797\n",
      "Epoch 12/50\n",
      "50000/50000 [==============================] - 3s 61us/step - loss: 1.2427 - accuracy: 0.5691 - val_loss: 1.4650 - val_accuracy: 0.4836\n",
      "Epoch 13/50\n",
      "50000/50000 [==============================] - 3s 62us/step - loss: 1.2163 - accuracy: 0.5805 - val_loss: 1.4593 - val_accuracy: 0.4829\n",
      "Epoch 14/50\n",
      "50000/50000 [==============================] - 3s 62us/step - loss: 1.1924 - accuracy: 0.5906 - val_loss: 1.4512 - val_accuracy: 0.4884\n",
      "Epoch 15/50\n",
      "50000/50000 [==============================] - 3s 62us/step - loss: 1.1671 - accuracy: 0.5980 - val_loss: 1.4519 - val_accuracy: 0.4922\n",
      "Epoch 16/50\n",
      "50000/50000 [==============================] - 3s 62us/step - loss: 1.1421 - accuracy: 0.6088 - val_loss: 1.4510 - val_accuracy: 0.4951\n",
      "Epoch 17/50\n",
      "50000/50000 [==============================] - 3s 61us/step - loss: 1.1207 - accuracy: 0.6156 - val_loss: 1.4518 - val_accuracy: 0.4888\n",
      "Epoch 18/50\n",
      "50000/50000 [==============================] - 3s 62us/step - loss: 1.0976 - accuracy: 0.6242 - val_loss: 1.4508 - val_accuracy: 0.4916\n",
      "Epoch 19/50\n",
      "50000/50000 [==============================] - 3s 62us/step - loss: 1.0737 - accuracy: 0.6337 - val_loss: 1.4540 - val_accuracy: 0.4897\n",
      "Epoch 20/50\n",
      "50000/50000 [==============================] - 3s 62us/step - loss: 1.0513 - accuracy: 0.6432 - val_loss: 1.4463 - val_accuracy: 0.4920\n",
      "Epoch 21/50\n",
      "50000/50000 [==============================] - 3s 62us/step - loss: 1.0295 - accuracy: 0.6515 - val_loss: 1.4672 - val_accuracy: 0.4902\n",
      "Epoch 22/50\n",
      "50000/50000 [==============================] - 3s 65us/step - loss: 1.0084 - accuracy: 0.6587 - val_loss: 1.4563 - val_accuracy: 0.4921\n",
      "Epoch 23/50\n",
      "50000/50000 [==============================] - 3s 65us/step - loss: 0.9867 - accuracy: 0.6652 - val_loss: 1.4606 - val_accuracy: 0.4911\n",
      "Epoch 24/50\n",
      "50000/50000 [==============================] - 3s 63us/step - loss: 0.9644 - accuracy: 0.6745 - val_loss: 1.4606 - val_accuracy: 0.4867\n",
      "Epoch 25/50\n",
      "50000/50000 [==============================] - 3s 62us/step - loss: 0.9437 - accuracy: 0.6841 - val_loss: 1.4729 - val_accuracy: 0.4942\n",
      "Epoch 26/50\n",
      "50000/50000 [==============================] - 3s 62us/step - loss: 0.9251 - accuracy: 0.6905 - val_loss: 1.4607 - val_accuracy: 0.4972\n",
      "Epoch 27/50\n",
      "50000/50000 [==============================] - 3s 62us/step - loss: 0.9037 - accuracy: 0.6998 - val_loss: 1.4631 - val_accuracy: 0.4962\n",
      "Epoch 28/50\n",
      "50000/50000 [==============================] - 3s 63us/step - loss: 0.8833 - accuracy: 0.7083 - val_loss: 1.4635 - val_accuracy: 0.5018\n",
      "Epoch 29/50\n",
      "50000/50000 [==============================] - 3s 63us/step - loss: 0.8614 - accuracy: 0.7137 - val_loss: 1.4898 - val_accuracy: 0.4944\n",
      "Epoch 30/50\n",
      "50000/50000 [==============================] - 3s 64us/step - loss: 0.8426 - accuracy: 0.7219 - val_loss: 1.4945 - val_accuracy: 0.4953\n",
      "Epoch 31/50\n",
      "50000/50000 [==============================] - 3s 63us/step - loss: 0.8229 - accuracy: 0.7321 - val_loss: 1.4971 - val_accuracy: 0.4945\n",
      "Epoch 32/50\n",
      "50000/50000 [==============================] - 3s 64us/step - loss: 0.8042 - accuracy: 0.7382 - val_loss: 1.5046 - val_accuracy: 0.4982\n",
      "Epoch 33/50\n",
      "50000/50000 [==============================] - 4s 72us/step - loss: 0.7816 - accuracy: 0.7484 - val_loss: 1.5124 - val_accuracy: 0.4952\n",
      "Epoch 34/50\n",
      "50000/50000 [==============================] - 3s 66us/step - loss: 0.7635 - accuracy: 0.7549 - val_loss: 1.5138 - val_accuracy: 0.4905\n",
      "Epoch 35/50\n",
      "50000/50000 [==============================] - 4s 70us/step - loss: 0.7442 - accuracy: 0.7641 - val_loss: 1.5202 - val_accuracy: 0.4885\n",
      "Epoch 36/50\n",
      "50000/50000 [==============================] - 3s 63us/step - loss: 0.7244 - accuracy: 0.7700 - val_loss: 1.5153 - val_accuracy: 0.4941\n",
      "Epoch 37/50\n",
      "50000/50000 [==============================] - 4s 76us/step - loss: 0.7057 - accuracy: 0.7785 - val_loss: 1.5230 - val_accuracy: 0.5006\n",
      "Epoch 38/50\n",
      "50000/50000 [==============================] - 4s 75us/step - loss: 0.6881 - accuracy: 0.7851 - val_loss: 1.5337 - val_accuracy: 0.4950\n",
      "Epoch 39/50\n",
      "50000/50000 [==============================] - 4s 74us/step - loss: 0.6669 - accuracy: 0.7931 - val_loss: 1.5368 - val_accuracy: 0.5011\n",
      "Epoch 40/50\n",
      "50000/50000 [==============================] - 3s 64us/step - loss: 0.6482 - accuracy: 0.8010 - val_loss: 1.5839 - val_accuracy: 0.4873\n",
      "Epoch 41/50\n",
      "50000/50000 [==============================] - 3s 65us/step - loss: 0.6335 - accuracy: 0.8078 - val_loss: 1.5675 - val_accuracy: 0.4927\n",
      "Epoch 42/50\n",
      "50000/50000 [==============================] - 3s 64us/step - loss: 0.6130 - accuracy: 0.8156 - val_loss: 1.5815 - val_accuracy: 0.4981\n",
      "Epoch 43/50\n",
      "50000/50000 [==============================] - 3s 70us/step - loss: 0.5938 - accuracy: 0.8223 - val_loss: 1.5734 - val_accuracy: 0.4968\n",
      "Epoch 44/50\n",
      "50000/50000 [==============================] - 3s 65us/step - loss: 0.5771 - accuracy: 0.8290 - val_loss: 1.6004 - val_accuracy: 0.4946\n",
      "Epoch 45/50\n",
      "50000/50000 [==============================] - 3s 65us/step - loss: 0.5601 - accuracy: 0.8368 - val_loss: 1.6002 - val_accuracy: 0.4939\n",
      "Epoch 46/50\n"
     ]
    },
    {
     "name": "stdout",
     "output_type": "stream",
     "text": [
      "50000/50000 [==============================] - 3s 60us/step - loss: 0.5431 - accuracy: 0.8424 - val_loss: 1.6082 - val_accuracy: 0.4887\n",
      "Epoch 47/50\n",
      "50000/50000 [==============================] - 3s 60us/step - loss: 0.5266 - accuracy: 0.8484 - val_loss: 1.6654 - val_accuracy: 0.4890\n",
      "Epoch 48/50\n",
      "50000/50000 [==============================] - 3s 61us/step - loss: 0.5094 - accuracy: 0.8546 - val_loss: 1.6544 - val_accuracy: 0.4867\n",
      "Epoch 49/50\n",
      "50000/50000 [==============================] - 3s 60us/step - loss: 0.4932 - accuracy: 0.8625 - val_loss: 1.6634 - val_accuracy: 0.4885\n",
      "Epoch 50/50\n",
      "50000/50000 [==============================] - 3s 61us/step - loss: 0.4784 - accuracy: 0.8678 - val_loss: 1.6785 - val_accuracy: 0.4934\n",
      "10000/10000 [==============================] - 1s 75us/step\n"
     ]
    }
   ],
   "source": [
    "# 載入 Callbacks\n",
    "\"\"\"Code Here\n",
    "設定 callbacks: model checkpoint\n",
    "\"\"\"\n",
    "from keras.callbacks import ModelCheckpoint\n",
    "\n",
    "model_ckpt = ModelCheckpoint(filepath=\"./tmp.h5\", \n",
    "                             monitor=\"val_loss\", \n",
    "                             save_best_only=True)\n",
    "\n",
    "\n",
    "results = {}\n",
    "\"\"\"Code Here\n",
    "撰寫你的訓練流程並將結果用 dictionary 紀錄\n",
    "\"\"\"\n",
    "model = build_mlp(input_shape=x_train.shape[1:])\n",
    "model.summary()\n",
    "optimizer = keras.optimizers.SGD(lr=LEARNING_RATE, nesterov=True, momentum=MOMENTUM)\n",
    "model.compile(loss=\"categorical_crossentropy\", metrics=[\"accuracy\"], optimizer=optimizer)\n",
    "\n",
    "model.fit(x_train, y_train, \n",
    "          epochs=EPOCHS, \n",
    "          batch_size=BATCH_SIZE, \n",
    "          validation_data=(x_test, y_test), \n",
    "          shuffle=True,\n",
    "          callbacks=[model_ckpt]\n",
    "         )\n",
    "\n",
    "# Collect results\n",
    "train_loss = model.history.history[\"loss\"]\n",
    "valid_loss = model.history.history[\"val_loss\"]\n",
    "train_acc = model.history.history[\"accuracy\"]\n",
    "valid_acc = model.history.history[\"val_accuracy\"]\n",
    "\n",
    "# Load back\n",
    "model = keras.models.load_model(\"./tmp.h5\")\n",
    "loss_loadback, acc_loadback = model.evaluate(x_test, y_test)\n",
    "\n",
    "results = {'train-loss': train_loss,\n",
    "           'valid-loss': valid_loss,\n",
    "           'train-acc': train_acc,\n",
    "           'valid-acc': valid_acc}"
   ]
  },
  {
   "cell_type": "code",
   "execution_count": 8,
   "metadata": {
    "scrolled": true
   },
   "outputs": [
    {
     "data": {
      "image/png": "[encoded data removed]",
      "text/plain": [
       "<Figure size 432x288 with 1 Axes>"
      ]
     },
     "metadata": {
      "needs_background": "light"
     },
     "output_type": "display_data"
    },
    {
     "data": {
      "image/png": "[encoded data removed]",
      "text/plain": [
       "<Figure size 432x288 with 1 Axes>"
      ]
     },
     "metadata": {
      "needs_background": "light"
     },
     "output_type": "display_data"
    }
   ],
   "source": [
    "import matplotlib.pyplot as plt\n",
    "%matplotlib inline\n",
    "\"\"\"Code Here\n",
    "將結果繪出\n",
    "\"\"\"\n",
    "\n",
    "plt.plot(range(len(train_loss)), train_loss, label=\"train loss\")\n",
    "plt.plot(range(len(valid_loss)), valid_loss, label=\"valid loss\")\n",
    "plt.legend()\n",
    "plt.title(\"Loss\")\n",
    "plt.show()\n",
    "\n",
    "plt.plot(range(len(train_acc)), train_acc, label=\"train accuracy\")\n",
    "plt.plot(range(len(valid_acc)), valid_acc, label=\"valid accuracy\")\n",
    "plt.legend()\n",
    "plt.title(\"Accuracy\")\n",
    "plt.show()"
   ]
  }
 ],
 "metadata": {
  "kernelspec": {
   "display_name": "Python 3",
   "language": "python",
   "name": "python3"
  },
  "language_info": {
   "codemirror_mode": {
    "name": "ipython",
    "version": 3
   },
   "file_extension": ".py",
   "mimetype": "text/x-python",
   "name": "python",
   "nbconvert_exporter": "python",
   "pygments_lexer": "ipython3",
   "version": "3.5.2"
  }
 },
 "nbformat": 4,
 "nbformat_minor": 2
}
