{
 "cells": [
  {
   "cell_type": "markdown",
   "metadata": {},
   "source": [
    "## Work\n",
    "1. 請比較使用不同層數以及不同 Dropout rate 對訓練的效果\n",
    "2. 將 optimizer 改成使用 Adam 並加上適當的 dropout rate 檢視結果"
   ]
  },
  {
   "cell_type": "code",
   "execution_count": 1,
   "metadata": {},
   "outputs": [
    {
     "name": "stderr",
     "output_type": "stream",
     "text": [
      "Using TensorFlow backend.\n"
     ]
    }
   ],
   "source": [
    "import os\n",
    "import keras\n",
    "import itertools\n",
    "# Disable GPU\n",
    "os.environ[\"CUDA_VISIBLE_DEVICES\"] = \"\""
   ]
  },
  {
   "cell_type": "code",
   "execution_count": 2,
   "metadata": {},
   "outputs": [],
   "source": [
    "train, test = keras.datasets.cifar10.load_data()"
   ]
  },
  {
   "cell_type": "code",
   "execution_count": 3,
   "metadata": {},
   "outputs": [],
   "source": [
    "## 資料前處理\n",
    "def preproc_x(x, flatten=True):\n",
    "    x = x / 255.\n",
    "    if flatten:\n",
    "        x = x.reshape((len(x), -1))\n",
    "    return x\n",
    "\n",
    "def preproc_y(y, num_classes=10):\n",
    "    if y.shape[-1] == 1:\n",
    "        y = keras.utils.to_categorical(y, num_classes)\n",
    "    return y    "
   ]
  },
  {
   "cell_type": "code",
   "execution_count": 4,
   "metadata": {},
   "outputs": [],
   "source": [
    "x_train, y_train = train\n",
    "x_test, y_test = test\n",
    "\n",
    "# Preproc the inputs\n",
    "x_train = preproc_x(x_train)\n",
    "x_test = preproc_x(x_test)\n",
    "\n",
    "# Preprc the outputs\n",
    "y_train = preproc_y(y_train)\n",
    "y_test = preproc_y(y_test)"
   ]
  },
  {
   "cell_type": "code",
   "execution_count": 5,
   "metadata": {},
   "outputs": [],
   "source": [
    "from keras.layers import Dropout\n",
    "\n",
    "def build_mlp(input_shape, output_units=10, num_neurons=[512, 256, 128], drp_ratio=0.2):\n",
    "    input_layer = keras.layers.Input(input_shape)\n",
    "    \n",
    "    for i, n_units in enumerate(num_neurons):\n",
    "        if i == 0:\n",
    "            x = keras.layers.Dense(units=n_units, \n",
    "                                   activation=\"relu\", \n",
    "                                   name=\"hidden_layer\"+str(i+1))(input_layer)\n",
    "            x = Dropout(drp_ratio)(x)\n",
    "        else:\n",
    "            x = keras.layers.Dense(units=n_units, \n",
    "                                   activation=\"relu\", \n",
    "                                   name=\"hidden_layer\"+str(i+1))(x)\n",
    "            x = Dropout(drp_ratio)(x)\n",
    "    \n",
    "    out = keras.layers.Dense(units=output_units, activation=\"softmax\", name=\"output\")(x)\n",
    "    \n",
    "    model = keras.models.Model(inputs=[input_layer], outputs=[out])\n",
    "    return model"
   ]
  },
  {
   "cell_type": "code",
   "execution_count": 6,
   "metadata": {},
   "outputs": [],
   "source": [
    "## 超參數設定\n",
    "LEARNING_RATE = 1e-3\n",
    "EPOCHS = 50\n",
    "BATCH_SIZE = 256\n",
    "MOMENTUM = 0.95\n",
    "Dropout_EXP = 0.25\n",
    "EPSILON = 1e-06\n",
    "DECAY = 0.0"
   ]
  },
  {
   "cell_type": "code",
   "execution_count": 7,
   "metadata": {
    "scrolled": true
   },
   "outputs": [
    {
     "name": "stdout",
     "output_type": "stream",
     "text": [
      "Model: \"model_1\"\n",
      "_________________________________________________________________\n",
      "Layer (type)                 Output Shape              Param #   \n",
      "=================================================================\n",
      "input_1 (InputLayer)         (None, 3072)              0         \n",
      "_________________________________________________________________\n",
      "hidden_layer1 (Dense)        (None, 512)               1573376   \n",
      "_________________________________________________________________\n",
      "dropout_1 (Dropout)          (None, 512)               0         \n",
      "_________________________________________________________________\n",
      "hidden_layer2 (Dense)        (None, 256)               131328    \n",
      "_________________________________________________________________\n",
      "dropout_2 (Dropout)          (None, 256)               0         \n",
      "_________________________________________________________________\n",
      "hidden_layer3 (Dense)        (None, 128)               32896     \n",
      "_________________________________________________________________\n",
      "dropout_3 (Dropout)          (None, 128)               0         \n",
      "_________________________________________________________________\n",
      "output (Dense)               (None, 10)                1290      \n",
      "=================================================================\n",
      "Total params: 1,738,890\n",
      "Trainable params: 1,738,890\n",
      "Non-trainable params: 0\n",
      "_________________________________________________________________\n",
      "Train on 50000 samples, validate on 10000 samples\n",
      "Epoch 1/50\n",
      "50000/50000 [==============================] - 6s 126us/step - loss: 2.0784 - accuracy: 0.2317 - val_loss: 1.8619 - val_accuracy: 0.3320\n",
      "Epoch 2/50\n",
      "50000/50000 [==============================] - 6s 117us/step - loss: 1.8787 - accuracy: 0.3178 - val_loss: 1.7752 - val_accuracy: 0.3685\n",
      "Epoch 3/50\n",
      "50000/50000 [==============================] - 6s 116us/step - loss: 1.8244 - accuracy: 0.3390 - val_loss: 1.7166 - val_accuracy: 0.3920\n",
      "Epoch 4/50\n",
      "50000/50000 [==============================] - 6s 126us/step - loss: 1.7808 - accuracy: 0.3584 - val_loss: 1.6453 - val_accuracy: 0.4218\n",
      "Epoch 5/50\n",
      "50000/50000 [==============================] - 6s 118us/step - loss: 1.7435 - accuracy: 0.3723 - val_loss: 1.6708 - val_accuracy: 0.4103\n",
      "Epoch 6/50\n",
      "50000/50000 [==============================] - 6s 120us/step - loss: 1.7288 - accuracy: 0.3772 - val_loss: 1.6220 - val_accuracy: 0.4260\n",
      "Epoch 7/50\n",
      "50000/50000 [==============================] - 6s 118us/step - loss: 1.7130 - accuracy: 0.3814 - val_loss: 1.6779 - val_accuracy: 0.4053\n",
      "Epoch 8/50\n",
      "50000/50000 [==============================] - 6s 117us/step - loss: 1.7000 - accuracy: 0.3850 - val_loss: 1.5857 - val_accuracy: 0.4366\n",
      "Epoch 9/50\n",
      "50000/50000 [==============================] - 6s 117us/step - loss: 1.6786 - accuracy: 0.3954 - val_loss: 1.5889 - val_accuracy: 0.4345\n",
      "Epoch 10/50\n",
      "50000/50000 [==============================] - 6s 118us/step - loss: 1.6651 - accuracy: 0.4027 - val_loss: 1.5668 - val_accuracy: 0.4531\n",
      "Epoch 11/50\n",
      "50000/50000 [==============================] - 6s 117us/step - loss: 1.6496 - accuracy: 0.4055 - val_loss: 1.5726 - val_accuracy: 0.4375\n",
      "Epoch 12/50\n",
      "50000/50000 [==============================] - 6s 118us/step - loss: 1.6286 - accuracy: 0.4133 - val_loss: 1.5508 - val_accuracy: 0.4523\n",
      "Epoch 13/50\n",
      "50000/50000 [==============================] - 6s 118us/step - loss: 1.6252 - accuracy: 0.4182 - val_loss: 1.5587 - val_accuracy: 0.4484\n",
      "Epoch 14/50\n",
      "50000/50000 [==============================] - 6s 118us/step - loss: 1.6216 - accuracy: 0.4154 - val_loss: 1.5387 - val_accuracy: 0.4526\n",
      "Epoch 15/50\n",
      "50000/50000 [==============================] - 6s 118us/step - loss: 1.6139 - accuracy: 0.4187 - val_loss: 1.5551 - val_accuracy: 0.4560\n",
      "Epoch 16/50\n",
      "50000/50000 [==============================] - 6s 118us/step - loss: 1.6041 - accuracy: 0.4252 - val_loss: 1.5357 - val_accuracy: 0.4478\n",
      "Epoch 17/50\n",
      "50000/50000 [==============================] - 6s 130us/step - loss: 1.5956 - accuracy: 0.4272 - val_loss: 1.5237 - val_accuracy: 0.4681\n",
      "Epoch 18/50\n",
      "50000/50000 [==============================] - 6s 121us/step - loss: 1.5923 - accuracy: 0.4273 - val_loss: 1.5168 - val_accuracy: 0.4740\n",
      "Epoch 19/50\n",
      "50000/50000 [==============================] - 6s 120us/step - loss: 1.5768 - accuracy: 0.4331 - val_loss: 1.5249 - val_accuracy: 0.4694\n",
      "Epoch 20/50\n",
      "50000/50000 [==============================] - 6s 118us/step - loss: 1.5789 - accuracy: 0.4328 - val_loss: 1.5433 - val_accuracy: 0.4483\n",
      "Epoch 21/50\n",
      "50000/50000 [==============================] - 6s 122us/step - loss: 1.5677 - accuracy: 0.4363 - val_loss: 1.5139 - val_accuracy: 0.4643\n",
      "Epoch 22/50\n",
      "50000/50000 [==============================] - 6s 118us/step - loss: 1.5591 - accuracy: 0.4389 - val_loss: 1.5023 - val_accuracy: 0.4669\n",
      "Epoch 23/50\n",
      "50000/50000 [==============================] - 6s 116us/step - loss: 1.5658 - accuracy: 0.4392 - val_loss: 1.5062 - val_accuracy: 0.4725\n",
      "Epoch 24/50\n",
      "50000/50000 [==============================] - 6s 122us/step - loss: 1.5514 - accuracy: 0.4415 - val_loss: 1.5048 - val_accuracy: 0.4602\n",
      "Epoch 25/50\n",
      "50000/50000 [==============================] - 6s 122us/step - loss: 1.5555 - accuracy: 0.4425 - val_loss: 1.4853 - val_accuracy: 0.4689\n",
      "Epoch 26/50\n",
      "50000/50000 [==============================] - 6s 124us/step - loss: 1.5397 - accuracy: 0.4447 - val_loss: 1.4860 - val_accuracy: 0.4761\n",
      "Epoch 27/50\n",
      "50000/50000 [==============================] - 6s 122us/step - loss: 1.5379 - accuracy: 0.4447 - val_loss: 1.4879 - val_accuracy: 0.4797\n",
      "Epoch 28/50\n",
      "50000/50000 [==============================] - 6s 120us/step - loss: 1.5308 - accuracy: 0.4469 - val_loss: 1.4673 - val_accuracy: 0.4804\n",
      "Epoch 29/50\n",
      "50000/50000 [==============================] - 6s 120us/step - loss: 1.5333 - accuracy: 0.4478 - val_loss: 1.4774 - val_accuracy: 0.4844\n",
      "Epoch 30/50\n",
      "50000/50000 [==============================] - 6s 124us/step - loss: 1.5273 - accuracy: 0.4504 - val_loss: 1.4907 - val_accuracy: 0.4709\n",
      "Epoch 31/50\n",
      "50000/50000 [==============================] - 7s 137us/step - loss: 1.5292 - accuracy: 0.4492 - val_loss: 1.4644 - val_accuracy: 0.4757\n",
      "Epoch 32/50\n",
      "50000/50000 [==============================] - 7s 139us/step - loss: 1.5207 - accuracy: 0.4541 - val_loss: 1.4484 - val_accuracy: 0.4876\n",
      "Epoch 33/50\n",
      "50000/50000 [==============================] - 7s 141us/step - loss: 1.5176 - accuracy: 0.4550 - val_loss: 1.4912 - val_accuracy: 0.4773\n",
      "Epoch 34/50\n",
      "50000/50000 [==============================] - 7s 130us/step - loss: 1.5100 - accuracy: 0.4556 - val_loss: 1.4574 - val_accuracy: 0.4781\n",
      "Epoch 35/50\n",
      "50000/50000 [==============================] - 7s 131us/step - loss: 1.5100 - accuracy: 0.4582 - val_loss: 1.4639 - val_accuracy: 0.4861\n",
      "Epoch 36/50\n",
      "50000/50000 [==============================] - 6s 127us/step - loss: 1.5047 - accuracy: 0.4592 - val_loss: 1.4511 - val_accuracy: 0.4819\n",
      "Epoch 37/50\n",
      "50000/50000 [==============================] - 6s 118us/step - loss: 1.5017 - accuracy: 0.4607 - val_loss: 1.4442 - val_accuracy: 0.4818\n",
      "Epoch 38/50\n",
      "50000/50000 [==============================] - 6s 126us/step - loss: 1.4971 - accuracy: 0.4582 - val_loss: 1.4841 - val_accuracy: 0.4713\n",
      "Epoch 39/50\n",
      "50000/50000 [==============================] - 6s 118us/step - loss: 1.4950 - accuracy: 0.4612 - val_loss: 1.4577 - val_accuracy: 0.4823\n",
      "Epoch 40/50\n",
      "50000/50000 [==============================] - 6s 117us/step - loss: 1.4887 - accuracy: 0.4621 - val_loss: 1.4535 - val_accuracy: 0.4857\n",
      "Epoch 41/50\n",
      "50000/50000 [==============================] - 6s 117us/step - loss: 1.4907 - accuracy: 0.4617 - val_loss: 1.4438 - val_accuracy: 0.4858\n",
      "Epoch 42/50\n",
      "50000/50000 [==============================] - 6s 123us/step - loss: 1.5003 - accuracy: 0.4593 - val_loss: 1.4573 - val_accuracy: 0.4851\n",
      "Epoch 43/50\n",
      "50000/50000 [==============================] - 6s 121us/step - loss: 1.4879 - accuracy: 0.4649 - val_loss: 1.4431 - val_accuracy: 0.4846\n",
      "Epoch 44/50\n",
      "50000/50000 [==============================] - 6s 117us/step - loss: 1.4818 - accuracy: 0.4656 - val_loss: 1.4514 - val_accuracy: 0.4856\n",
      "Epoch 45/50\n",
      "50000/50000 [==============================] - 6s 117us/step - loss: 1.4824 - accuracy: 0.4673 - val_loss: 1.4525 - val_accuracy: 0.4812\n",
      "Epoch 46/50\n"
     ]
    },
    {
     "name": "stdout",
     "output_type": "stream",
     "text": [
      "50000/50000 [==============================] - 6s 114us/step - loss: 1.4845 - accuracy: 0.4668 - val_loss: 1.4943 - val_accuracy: 0.4722\n",
      "Epoch 47/50\n",
      "50000/50000 [==============================] - 6s 113us/step - loss: 1.4733 - accuracy: 0.4723 - val_loss: 1.4345 - val_accuracy: 0.4891\n",
      "Epoch 48/50\n",
      "50000/50000 [==============================] - 6s 114us/step - loss: 1.4744 - accuracy: 0.4681 - val_loss: 1.4215 - val_accuracy: 0.4894\n",
      "Epoch 49/50\n",
      "50000/50000 [==============================] - 6s 114us/step - loss: 1.4686 - accuracy: 0.4721 - val_loss: 1.4430 - val_accuracy: 0.4872\n",
      "Epoch 50/50\n",
      "50000/50000 [==============================] - 6s 115us/step - loss: 1.4680 - accuracy: 0.4706 - val_loss: 1.4509 - val_accuracy: 0.4787\n"
     ]
    }
   ],
   "source": [
    "results = {}\n",
    "\n",
    "model = build_mlp(input_shape=x_train.shape[1:], drp_ratio=Dropout_EXP)\n",
    "model.summary()\n",
    "optimizer = keras.optimizers.Adam(lr=LEARNING_RATE, beta_1=0.9, beta_2=0.999, epsilon=EPSILON, decay=DECAY, amsgrad=False)\n",
    "model.compile(loss=\"categorical_crossentropy\", metrics=[\"accuracy\"], optimizer=optimizer)\n",
    "\n",
    "model.fit(x_train, y_train, \n",
    "          epochs=EPOCHS, \n",
    "          batch_size=BATCH_SIZE, \n",
    "          validation_data=(x_test, y_test), \n",
    "          shuffle=True)\n",
    "\n",
    "# Collect results\n",
    "train_loss = model.history.history[\"loss\"]\n",
    "valid_loss = model.history.history[\"val_loss\"]\n",
    "train_acc = model.history.history[\"accuracy\"]\n",
    "valid_acc = model.history.history[\"val_accuracy\"]\n",
    "\n",
    "exp_name_tag = \"exp-drop-%s\" % str(Dropout_EXP)\n",
    "results[exp_name_tag] = {'train-loss': train_loss,\n",
    "                         'valid-loss': valid_loss,\n",
    "                         'train-acc': train_acc,\n",
    "                         'valid-acc': valid_acc}"
   ]
  },
  {
   "cell_type": "code",
   "execution_count": 8,
   "metadata": {},
   "outputs": [
    {
     "data": {
      "image/png": "[encoded data removed]",
      "text/plain": [
       "<Figure size 576x432 with 1 Axes>"
      ]
     },
     "metadata": {
      "needs_background": "light"
     },
     "output_type": "display_data"
    },
    {
     "data": {
      "image/png": "[encoded data removed]",
      "text/plain": [
       "<Figure size 576x432 with 1 Axes>"
      ]
     },
     "metadata": {
      "needs_background": "light"
     },
     "output_type": "display_data"
    }
   ],
   "source": [
    "import matplotlib.pyplot as plt\n",
    "%matplotlib inline\n",
    "\n",
    "color_bar = [\"r\", \"g\", \"b\", \"y\", \"m\", \"k\"]\n",
    "\n",
    "plt.figure(figsize=(8,6))\n",
    "for i, cond in enumerate(results.keys()):\n",
    "    plt.plot(range(len(results[cond]['train-loss'])),results[cond]['train-loss'], '-', label=cond, color=color_bar[i])\n",
    "    plt.plot(range(len(results[cond]['valid-loss'])),results[cond]['valid-loss'], '--', label=cond, color=color_bar[i])\n",
    "plt.title(\"Loss\")\n",
    "plt.ylim([0, 5])\n",
    "plt.legend()\n",
    "plt.show()\n",
    "\n",
    "plt.figure(figsize=(8,6))\n",
    "for i, cond in enumerate(results.keys()):\n",
    "    plt.plot(range(len(results[cond]['train-acc'])),results[cond]['train-acc'], '-', label=cond, color=color_bar[i])\n",
    "    plt.plot(range(len(results[cond]['valid-acc'])),results[cond]['valid-acc'], '--', label=cond, color=color_bar[i])\n",
    "plt.title(\"Accuracy\")\n",
    "plt.legend()\n",
    "plt.show()"
   ]
  }
 ],
 "metadata": {
  "kernelspec": {
   "display_name": "Python 3",
   "language": "python",
   "name": "python3"
  },
  "language_info": {
   "codemirror_mode": {
    "name": "ipython",
    "version": 3
   },
   "file_extension": ".py",
   "mimetype": "text/x-python",
   "name": "python",
   "nbconvert_exporter": "python",
   "pygments_lexer": "ipython3",
   "version": "3.5.2"
  }
 },
 "nbformat": 4,
 "nbformat_minor": 2
}
